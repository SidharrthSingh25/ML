{
  "nbformat": 4,
  "nbformat_minor": 0,
  "metadata": {
    "colab": {
      "name": "MINI_PROJECT-1 (PLR).ipynb",
      "provenance": [],
      "authorship_tag": "ABX9TyNcmR9ATQt/1BzRF8Dg82lo",
      "include_colab_link": true
    },
    "kernelspec": {
      "name": "python3",
      "display_name": "Python 3"
    }
  },
  "cells": [
    {
      "cell_type": "markdown",
      "metadata": {
        "id": "view-in-github",
        "colab_type": "text"
      },
      "source": [
        "<a href=\"https://colab.research.google.com/github/SidharrthSingh25/ML/blob/master/ASSIGNMENT_4/Polynomial_Regression.ipynb\" target=\"_parent\"><img src=\"https://colab.research.google.com/assets/colab-badge.svg\" alt=\"Open In Colab\"/></a>"
      ]
    },
    {
      "cell_type": "markdown",
      "metadata": {
        "id": "ctkZcYsHWRCz",
        "colab_type": "text"
      },
      "source": [
        "1. IMPORTING LIBRARIES AND DATASET"
      ]
    },
    {
      "cell_type": "code",
      "metadata": {
        "id": "kBc9oXVcWc8f",
        "colab_type": "code",
        "colab": {}
      },
      "source": [
        "import numpy as np\n",
        "import matplotlib.pyplot as plt\n",
        "import pandas as pd"
      ],
      "execution_count": 0,
      "outputs": []
    },
    {
      "cell_type": "code",
      "metadata": {
        "id": "eQklllm1WnmQ",
        "colab_type": "code",
        "colab": {}
      },
      "source": [
        "dataset = pd.read_csv ('datasets_88705_204267_Real estate.csv')\n",
        "X = dataset.iloc [ : ,2:-1].values\n",
        "Y = dataset.iloc [ : ,-1].values"
      ],
      "execution_count": 0,
      "outputs": []
    },
    {
      "cell_type": "code",
      "metadata": {
        "id": "058TZDwVWvHV",
        "colab_type": "code",
        "outputId": "eed3d47b-319e-4a6c-a407-51e1afc22d9a",
        "colab": {
          "base_uri": "https://localhost:8080/",
          "height": 140
        }
      },
      "source": [
        "print (X)"
      ],
      "execution_count": 3,
      "outputs": [
        {
          "output_type": "stream",
          "text": [
            "[[ 32.       84.87882  10.       24.98298 121.54024]\n",
            " [ 19.5     306.5947    9.       24.98034 121.53951]\n",
            " [ 13.3     561.9845    5.       24.98746 121.54391]\n",
            " ...\n",
            " [ 18.8     390.9696    7.       24.97923 121.53986]\n",
            " [  8.1     104.8101    5.       24.96674 121.54067]\n",
            " [  6.5      90.45606   9.       24.97433 121.5431 ]]\n"
          ],
          "name": "stdout"
        }
      ]
    },
    {
      "cell_type": "code",
      "metadata": {
        "id": "xX3wIATkWvq8",
        "colab_type": "code",
        "outputId": "96a2584d-5167-4c0a-a5a2-ebdf439eca5e",
        "colab": {
          "base_uri": "https://localhost:8080/",
          "height": 633
        }
      },
      "source": [
        "print (Y)"
      ],
      "execution_count": 4,
      "outputs": [
        {
          "output_type": "stream",
          "text": [
            "[ 37.9  42.2  47.3  54.8  43.1  32.1  40.3  46.7  18.8  22.1  41.4  58.1\n",
            "  39.3  23.8  34.3  50.5  70.1  37.4  42.3  47.7  29.3  51.6  24.6  47.9\n",
            "  38.8  27.   56.2  33.6  47.   57.1  22.1  25.   34.2  49.3  55.1  27.3\n",
            "  22.9  25.3  47.7  46.2  15.9  18.2  34.7  34.1  53.9  38.3  42.   61.5\n",
            "  13.4  13.2  44.2  20.7  27.   38.9  51.7  13.7  41.9  53.5  22.6  42.4\n",
            "  21.3  63.2  27.7  55.   25.3  44.3  50.7  56.8  36.2  42.   59.   40.8\n",
            "  36.3  20.   54.4  29.5  36.8  25.6  29.8  26.5  40.3  36.8  48.1  17.7\n",
            "  43.7  50.8  27.   18.3  48.   25.3  45.4  43.2  21.8  16.1  41.   51.8\n",
            "  59.5  34.6  51.   62.2  38.2  32.9  54.4  45.7  30.5  71.   47.1  26.6\n",
            "  34.1  28.4  51.6  39.4  23.1   7.6  53.3  46.4  12.2  13.   30.6  59.6\n",
            "  31.3  48.   32.5  45.5  57.4  48.6  62.9  55.   60.7  41.   37.5  30.7\n",
            "  37.5  39.5  42.2  20.8  46.8  47.4  43.5  42.5  51.4  28.9  37.5  40.1\n",
            "  28.4  45.5  52.2  43.2  45.1  39.7  48.5  44.7  28.9  40.9  20.7  15.6\n",
            "  18.3  35.6  39.4  37.4  57.8  39.6  11.6  55.5  55.2  30.6  73.6  43.4\n",
            "  37.4  23.5  14.4  58.8  58.1  35.1  45.2  36.5  19.2  42.   36.7  42.6\n",
            "  15.5  55.9  23.6  18.8  21.8  21.5  25.7  22.   44.3  20.5  42.3  37.8\n",
            "  42.7  49.3  29.3  34.6  36.6  48.2  39.1  31.6  25.5  45.9  31.5  46.1\n",
            "  26.6  21.4  44.   34.2  26.2  40.9  52.2  43.5  31.1  58.   20.9  48.1\n",
            "  39.7  40.8  43.8  40.2  78.3  38.5  48.5  42.3  46.   49.   12.8  40.2\n",
            "  46.6  19.   33.4  14.7  17.4  32.4  23.9  39.3  61.9  39.   40.6  29.7\n",
            "  28.8  41.4  33.4  48.2  21.7  40.8  40.6  23.1  22.3  15.   30.   13.8\n",
            "  52.7  25.9  51.8  17.4  26.5  43.9  63.3  28.8  30.7  24.4  53.   31.7\n",
            "  40.6  38.1  23.7  41.1  40.1  23.  117.5  26.5  40.5  29.3  41.   49.7\n",
            "  34.   27.7  44.   31.1  45.4  44.8  25.6  23.5  34.4  55.3  56.3  32.9\n",
            "  51.   44.5  37.   54.4  24.5  42.5  38.1  21.8  34.1  28.5  16.7  46.1\n",
            "  36.9  35.7  23.2  38.4  29.4  55.   50.2  24.7  53.   19.1  24.7  42.2\n",
            "  78.   42.8  41.6  27.3  42.   37.5  49.8  26.9  18.6  37.7  33.1  42.5\n",
            "  31.3  38.1  62.1  36.7  23.6  19.2  12.8  15.6  39.6  38.4  22.8  36.5\n",
            "  35.6  30.9  36.3  50.4  42.9  37.   53.5  46.6  41.2  37.9  30.8  11.2\n",
            "  53.7  47.   42.3  28.6  25.7  31.3  30.1  60.7  45.3  44.9  45.1  24.7\n",
            "  47.1  63.3  40.   48.   33.1  29.5  24.8  20.9  43.1  22.8  42.1  51.7\n",
            "  41.5  52.2  49.5  23.8  30.5  56.8  37.4  69.7  53.3  47.3  29.3  40.3\n",
            "  12.9  46.6  55.3  25.6  27.3  67.7  38.6  31.3  35.3  40.3  24.7  42.5\n",
            "  31.9  32.2  23.   37.3  35.5  27.7  28.5  39.7  41.2  37.2  40.5  22.3\n",
            "  28.1  15.4  50.   40.6  52.5  63.9]\n"
          ],
          "name": "stdout"
        }
      ]
    },
    {
      "cell_type": "markdown",
      "metadata": {
        "id": "n5dQExaeW1Fv",
        "colab_type": "text"
      },
      "source": [
        "2. SPLITTING INTO TRAINING AND TEST SET"
      ]
    },
    {
      "cell_type": "code",
      "metadata": {
        "id": "-8QHO4ydW4BS",
        "colab_type": "code",
        "colab": {}
      },
      "source": [
        "from sklearn.model_selection import train_test_split\n",
        "X_train, X_test, Y_train, Y_test = train_test_split (X, Y, test_size = 0.2, random_state = 0)"
      ],
      "execution_count": 0,
      "outputs": []
    },
    {
      "cell_type": "code",
      "metadata": {
        "id": "heaE0nIBW6Yp",
        "colab_type": "code",
        "outputId": "e1bc110b-3274-405a-cd8c-ca1103d8bb8c",
        "colab": {
          "base_uri": "https://localhost:8080/",
          "height": 140
        }
      },
      "source": [
        "print (X_train)"
      ],
      "execution_count": 6,
      "outputs": [
        {
          "output_type": "stream",
          "text": [
            "[[1.6500000e+01 2.2880110e+03 3.0000000e+00 2.4958850e+01 1.2151359e+02]\n",
            " [4.5000000e+00 2.2758770e+03 3.0000000e+00 2.4963140e+01 1.2151151e+02]\n",
            " [3.8300000e+01 4.3971050e+02 0.0000000e+00 2.4971610e+01 1.2153423e+02]\n",
            " ...\n",
            " [1.3600000e+01 4.1973490e+03 0.0000000e+00 2.4938850e+01 1.2150383e+02]\n",
            " [3.5900000e+01 6.4073910e+02 3.0000000e+00 2.4975630e+01 1.2153715e+02]\n",
            " [6.6000000e+00 9.0456060e+01 9.0000000e+00 2.4974330e+01 1.2154310e+02]]\n"
          ],
          "name": "stdout"
        }
      ]
    },
    {
      "cell_type": "code",
      "metadata": {
        "id": "yCDocHhkW6b2",
        "colab_type": "code",
        "outputId": "b917ed4d-e205-494e-85c7-ce84c2dfee63",
        "colab": {
          "base_uri": "https://localhost:8080/",
          "height": 510
        }
      },
      "source": [
        "print (Y_train)"
      ],
      "execution_count": 7,
      "outputs": [
        {
          "output_type": "stream",
          "text": [
            "[ 23.2  29.3  38.4  37.5  34.3  44.8  54.4  37.9   7.6  29.5  25.3  13.7\n",
            "  30.   30.8  40.6  20.7  40.8  55.3  40.5  40.8  40.3  33.1  26.2  41.9\n",
            "  18.8  78.   15.6  39.4  41.   23.5  35.6  47.1  35.6  55.   41.5  37.4\n",
            "  21.8  31.3  36.8  26.6  40.   50.   38.1  59.5  56.8  25.3  32.4  37.8\n",
            "  49.8  52.7  21.8  28.8  29.3  37.4  37.4  44.   50.7  42.3  36.5  51.4\n",
            "  32.9  38.6  21.4  50.4  37.4  52.2  58.8  43.8  22.1  53.3  17.4  45.7\n",
            "  36.6  39.7  15.4  12.2  46.6  31.3  22.3  23.1  17.4  46.8  32.9  62.9\n",
            "  25.5  42.2  42.5  39.5  49.3  31.3  11.6  55.1  19.   34.6  50.8  63.2\n",
            "  43.4  35.1  27.3  41.2  37.2  23.1  14.7  34.1  37.5  42.   25.6  53.3\n",
            "  41.4  20.   47.4  24.7  38.5  49.   57.1  55.9  36.9  25.6  20.7  37.\n",
            "  29.5  33.6  47.3  23.9  18.3  35.7  67.7  40.6  43.5  31.1  51.8  61.9\n",
            "  56.3  63.3  48.1  18.6  20.5  20.9  27.3  26.6  34.   52.2  56.8  38.8\n",
            "  44.   39.7  53.9  30.6  42.3  41.   16.1  39.4  73.6  44.5  36.7  30.5\n",
            "  15.9  42.3  34.1  26.5  24.4  31.7  40.8  23.8  28.6  58.   37.3  42.9\n",
            "  28.1  46.6  57.8  30.5  39.6  17.7  40.6  27.3  51.6  39.7  28.9  70.1\n",
            "  45.4  28.4  11.2  42.5  39.   30.7  39.6  22.3  47.   47.7  23.   12.8\n",
            "  26.9  54.8  52.2  48.6  25.6  21.8  42.8  35.3  49.7  40.5  23.6  22.8\n",
            "  40.3  63.3  58.1  24.7  27.   23.7  22.9  42.5  22.6  18.2 117.5  44.2\n",
            "  40.9  12.8  19.2  41.2  45.5  48.5  27.7  32.2  37.5  22.   47.9  34.1\n",
            "  37.9  45.9  25.7  51.   29.4  27.7  36.7  26.5  41.   29.3  51.8  33.1\n",
            "  23.5  42.   55.   13.4  34.2  31.1  40.2  45.1  40.1  15.5  30.7  42.1\n",
            "  52.5  53.   31.3  46.1  43.7  48.   45.1  69.7  43.2  48.1  41.1  59.6\n",
            "  54.4  53.5  37.7  43.9  43.1  34.7  71.   47.3  29.3  24.8  47.7  38.9\n",
            "  47.1  60.7  37.   47.   18.8  55.5  44.7  21.7  31.5  25.   34.2  55.\n",
            "  21.5  46.6  51.   23.8  43.2  55.3  40.3  42.   62.2  36.3  36.5  48.2\n",
            "  48.2  46.4  38.1  36.3  38.4  27.   30.6  30.9  23.   45.2  35.5  46.2\n",
            "  49.3  41.6  31.9  48.   59.   18.3  24.5  33.4  27.7  43.5  22.1  24.7\n",
            "  34.6  13.8  42.5  42.7  13.   61.5  58.1]\n"
          ],
          "name": "stdout"
        }
      ]
    },
    {
      "cell_type": "code",
      "metadata": {
        "id": "QZtZtPKCW-tB",
        "colab_type": "code",
        "outputId": "6e772fa3-df11-4664-bae1-fed0412f0649",
        "colab": {
          "base_uri": "https://localhost:8080/",
          "height": 1000
        }
      },
      "source": [
        "print (X_test)"
      ],
      "execution_count": 8,
      "outputs": [
        {
          "output_type": "stream",
          "text": [
            "[[1.0300000e+01 2.1144730e+02 1.0000000e+00 2.4974170e+01 1.2152999e+02]\n",
            " [2.4000000e+01 4.5276870e+03 0.0000000e+00 2.4947410e+01 1.2149628e+02]\n",
            " [3.4500000e+01 3.2494190e+02 6.0000000e+00 2.4978140e+01 1.2154170e+02]\n",
            " [2.5600000e+01 4.5196900e+03 0.0000000e+00 2.4948260e+01 1.2149587e+02]\n",
            " [1.4400000e+01 1.6998030e+02 1.0000000e+00 2.4973690e+01 1.2152979e+02]\n",
            " [3.6600000e+01 4.8881930e+02 8.0000000e+00 2.4970150e+01 1.2154494e+02]\n",
            " [3.5800000e+01 1.7073110e+02 7.0000000e+00 2.4967190e+01 1.2154269e+02]\n",
            " [3.4800000e+01 4.0521340e+02 1.0000000e+00 2.4973490e+01 1.2153372e+02]\n",
            " [1.0500000e+01 2.7917260e+02 7.0000000e+00 2.4975280e+01 1.2154541e+02]\n",
            " [1.7200000e+01 3.9056840e+02 5.0000000e+00 2.4979370e+01 1.2154245e+02]\n",
            " [1.3300000e+01 2.5063100e+02 7.0000000e+00 2.4966060e+01 1.2154297e+02]\n",
            " [1.3300000e+01 3.3605320e+02 5.0000000e+00 2.4957760e+01 1.2153438e+02]\n",
            " [1.2700000e+01 1.8748230e+02 1.0000000e+00 2.4973880e+01 1.2152981e+02]\n",
            " [3.4000000e+01 1.5760520e+02 7.0000000e+00 2.4966280e+01 1.2154196e+02]\n",
            " [4.6000000e+00 2.5966070e+02 6.0000000e+00 2.4975850e+01 1.2154516e+02]\n",
            " [3.5900000e+01 6.1640040e+02 3.0000000e+00 2.4977230e+01 1.2153767e+02]\n",
            " [3.2600000e+01 4.9365700e+02 7.0000000e+00 2.4969680e+01 1.2154522e+02]\n",
            " [0.0000000e+00 1.8542960e+02 0.0000000e+00 2.4971100e+01 1.2153170e+02]\n",
            " [1.3000000e+01 4.9223130e+02 5.0000000e+00 2.4965150e+01 1.2153737e+02]\n",
            " [3.4800000e+01 1.9003920e+02 8.0000000e+00 2.4977070e+01 1.2154312e+02]\n",
            " [5.7000000e+00 9.0456060e+01 9.0000000e+00 2.4974330e+01 1.2154310e+02]\n",
            " [1.2000000e+01 1.3601390e+03 1.0000000e+00 2.4952040e+01 1.2154842e+02]\n",
            " [3.0000000e+01 1.0133410e+03 5.0000000e+00 2.4990060e+01 1.2153460e+02]\n",
            " [1.6100000e+01 2.8932480e+02 5.0000000e+00 2.4982030e+01 1.2154348e+02]\n",
            " [2.1000000e+00 4.5124380e+02 5.0000000e+00 2.4975630e+01 1.2154694e+02]\n",
            " [1.5000000e+01 3.8328050e+02 7.0000000e+00 2.4967350e+01 1.2154464e+02]\n",
            " [1.8200000e+01 4.5164190e+02 8.0000000e+00 2.4969450e+01 1.2154490e+02]\n",
            " [3.0400000e+01 1.7355950e+03 2.0000000e+00 2.4964640e+01 1.2151623e+02]\n",
            " [5.4000000e+00 3.9056840e+02 5.0000000e+00 2.4979370e+01 1.2154245e+02]\n",
            " [1.0300000e+01 3.0798900e+03 0.0000000e+00 2.4954600e+01 1.2156627e+02]\n",
            " [4.1000000e+00 3.1289630e+02 5.0000000e+00 2.4955910e+01 1.2153956e+02]\n",
            " [1.8100000e+01 8.3772330e+02 0.0000000e+00 2.4963340e+01 1.2154767e+02]\n",
            " [0.0000000e+00 2.7401440e+02 1.0000000e+00 2.4974800e+01 1.2153059e+02]\n",
            " [3.5700000e+01 5.7920830e+02 2.0000000e+00 2.4982400e+01 1.2154619e+02]\n",
            " [1.7700000e+01 4.5164190e+02 8.0000000e+00 2.4969450e+01 1.2154490e+02]\n",
            " [1.2200000e+01 1.3601390e+03 1.0000000e+00 2.4952040e+01 1.2154842e+02]\n",
            " [3.3200000e+01 1.2172620e+02 1.0000000e+01 2.4981780e+01 1.2154059e+02]\n",
            " [5.1000000e+00 1.5598270e+03 3.0000000e+00 2.4972130e+01 1.2151627e+02]\n",
            " [6.8000000e+00 3.7955750e+02 1.0000000e+01 2.4983430e+01 1.2153762e+02]\n",
            " [1.8000000e+01 6.3061530e+03 1.0000000e+00 2.4957430e+01 1.2147516e+02]\n",
            " [0.0000000e+00 3.3896790e+02 9.0000000e+00 2.4968530e+01 1.2154413e+02]\n",
            " [3.8200000e+01 5.5243710e+02 2.0000000e+00 2.4975980e+01 1.2153381e+02]\n",
            " [1.5900000e+01 1.4977130e+03 3.0000000e+00 2.4970030e+01 1.2151696e+02]\n",
            " [3.2300000e+01 1.0994550e+02 1.0000000e+01 2.4981820e+01 1.2154086e+02]\n",
            " [1.6700000e+01 4.0820150e+03 0.0000000e+00 2.4941550e+01 1.2150381e+02]\n",
            " [6.5000000e+00 3.7617090e+02 6.0000000e+00 2.4954180e+01 1.2153713e+02]\n",
            " [2.9300000e+01 5.2977710e+02 8.0000000e+00 2.4981020e+01 1.2153655e+02]\n",
            " [1.6100000e+01 4.0665870e+03 0.0000000e+00 2.4942970e+01 1.2150342e+02]\n",
            " [1.1000000e+01 1.9312070e+03 2.0000000e+00 2.4963650e+01 1.2151471e+02]\n",
            " [4.1000000e+00 5.6474250e+01 7.0000000e+00 2.4957440e+01 1.2153711e+02]\n",
            " [6.5000000e+00 9.0456060e+01 9.0000000e+00 2.4974330e+01 1.2154310e+02]\n",
            " [3.4500000e+01 6.2347310e+02 7.0000000e+00 2.4979330e+01 1.2153642e+02]\n",
            " [1.9500000e+01 3.0659470e+02 9.0000000e+00 2.4980340e+01 1.2153951e+02]\n",
            " [3.0300000e+01 1.2647300e+03 0.0000000e+00 2.4948830e+01 1.2152954e+02]\n",
            " [1.1900000e+01 1.3601390e+03 1.0000000e+00 2.4952040e+01 1.2154842e+02]\n",
            " [3.4900000e+01 5.6703490e+02 4.0000000e+00 2.4970030e+01 1.2154580e+02]\n",
            " [3.8000000e+00 3.8386240e+02 5.0000000e+00 2.4980850e+01 1.2154391e+02]\n",
            " [2.6600000e+01 4.8275810e+02 5.0000000e+00 2.4974330e+01 1.2153863e+02]\n",
            " [1.2900000e+01 2.5063100e+02 7.0000000e+00 2.4966060e+01 1.2154297e+02]\n",
            " [1.7700000e+01 8.3772330e+02 0.0000000e+00 2.4963340e+01 1.2154767e+02]\n",
            " [3.5300000e+01 6.1657350e+02 8.0000000e+00 2.4979450e+01 1.2153642e+02]\n",
            " [4.0100000e+01 1.2374290e+02 8.0000000e+00 2.4976350e+01 1.2154329e+02]\n",
            " [1.4000000e+01 4.3885130e+02 1.0000000e+00 2.4974930e+01 1.2152730e+02]\n",
            " [9.9000000e+00 2.7917260e+02 7.0000000e+00 2.4975280e+01 1.2154541e+02]\n",
            " [3.3400000e+01 1.8696860e+02 6.0000000e+00 2.4966040e+01 1.2154211e+02]\n",
            " [2.0900000e+01 2.1851280e+03 3.0000000e+00 2.4963220e+01 1.2151237e+02]\n",
            " [2.9400000e+01 4.5103590e+03 1.0000000e+00 2.4949250e+01 1.2149542e+02]\n",
            " [3.2100000e+01 1.4385790e+03 3.0000000e+00 2.4974190e+01 1.2151750e+02]\n",
            " [3.1000000e+00 3.8386240e+02 5.0000000e+00 2.4980850e+01 1.2154391e+02]\n",
            " [3.6600000e+01 4.8881930e+02 8.0000000e+00 2.4970150e+01 1.2154494e+02]\n",
            " [1.8900000e+01 1.0092350e+03 0.0000000e+00 2.4963570e+01 1.2154951e+02]\n",
            " [5.0000000e+00 3.9056840e+02 5.0000000e+00 2.4979370e+01 1.2154245e+02]\n",
            " [3.7200000e+01 1.8651010e+02 9.0000000e+00 2.4977030e+01 1.2154265e+02]\n",
            " [1.5000000e+01 1.8283190e+03 2.0000000e+00 2.4964640e+01 1.2151531e+02]\n",
            " [3.1500000e+01 4.1494760e+02 4.0000000e+00 2.4981990e+01 1.2154464e+02]\n",
            " [4.0000000e+00 2.1473760e+03 3.0000000e+00 2.4962990e+01 1.2151284e+02]\n",
            " [7.1000000e+00 2.1750300e+03 3.0000000e+00 2.4963050e+01 1.2151254e+02]\n",
            " [1.3900000e+01 4.5737790e+03 0.0000000e+00 2.4948670e+01 1.2149507e+02]\n",
            " [1.6400000e+01 2.8932480e+02 5.0000000e+00 2.4982030e+01 1.2154348e+02]\n",
            " [1.7500000e+01 9.6474960e+02 4.0000000e+00 2.4988720e+01 1.2153411e+02]\n",
            " [2.0300000e+01 2.8760250e+02 6.0000000e+00 2.4980420e+01 1.2154228e+02]\n",
            " [1.4700000e+01 1.3601390e+03 1.0000000e+00 2.4952040e+01 1.2154842e+02]\n",
            " [3.0400000e+01 4.6422300e+02 6.0000000e+00 2.4979640e+01 1.2153805e+02]]\n"
          ],
          "name": "stdout"
        }
      ]
    },
    {
      "cell_type": "code",
      "metadata": {
        "id": "wmsHGLEkW-0m",
        "colab_type": "code",
        "outputId": "41a95dfa-efa8-4fb2-f07f-20fe7fa32d79",
        "colab": {
          "base_uri": "https://localhost:8080/",
          "height": 123
        }
      },
      "source": [
        "print (Y_test)"
      ],
      "execution_count": 9,
      "outputs": [
        {
          "output_type": "stream",
          "text": [
            "[45.3 14.4 46.  15.6 50.2 38.1 48.5 41.4 51.6 40.1 42.  42.4 28.5 39.1\n",
            " 53.7 36.8 40.6 55.2 39.3 44.3 53.5 25.3 22.8 51.7 45.5 34.4 31.6 25.9\n",
            " 49.5 24.7 51.7 29.7 45.4 50.5 26.5 30.1 46.1 28.9 54.4 15.  44.9 29.8\n",
            " 23.6 48.  16.7 40.9 40.2 12.9 21.3 62.1 63.9 40.3 42.2 19.1 28.4 28.5\n",
            " 60.7 37.5 39.3 28.8 42.3 44.3 42.6 57.4 42.2 25.7 13.2 27.  56.2 38.3\n",
            " 20.8 43.1 78.3 20.9 32.5 33.4 32.1 19.2 53.  38.2 46.7 24.6 36.2]\n"
          ],
          "name": "stdout"
        }
      ]
    },
    {
      "cell_type": "markdown",
      "metadata": {
        "id": "wN89OxK6XHPL",
        "colab_type": "text"
      },
      "source": [
        "3. POLYNOMIAL REGRESSION MODEL"
      ]
    },
    {
      "cell_type": "markdown",
      "metadata": {
        "id": "OJx2vwyrXHS8",
        "colab_type": "text"
      },
      "source": [
        "3.1. TRAINING PLR MODEL ON TRAINING SET"
      ]
    },
    {
      "cell_type": "code",
      "metadata": {
        "id": "HtPT5HwmXNsc",
        "colab_type": "code",
        "outputId": "19e2e37b-9414-48c8-84c4-8a553ac0ca05",
        "colab": {
          "base_uri": "https://localhost:8080/",
          "height": 35
        }
      },
      "source": [
        "from sklearn.linear_model import LinearRegression\n",
        "from sklearn.preprocessing import PolynomialFeatures\n",
        "poly_reg = PolynomialFeatures (degree = 4)\n",
        "X_poly = poly_reg.fit_transform (X_train)\n",
        "lin_reg = LinearRegression ()\n",
        "lin_reg.fit (X_poly, Y_train)"
      ],
      "execution_count": 10,
      "outputs": [
        {
          "output_type": "execute_result",
          "data": {
            "text/plain": [
              "LinearRegression(copy_X=True, fit_intercept=True, n_jobs=None, normalize=False)"
            ]
          },
          "metadata": {
            "tags": []
          },
          "execution_count": 10
        }
      ]
    },
    {
      "cell_type": "markdown",
      "metadata": {
        "id": "Bzu54FUSXVqI",
        "colab_type": "text"
      },
      "source": [
        "3.2. VISUALISING TEST RESULTS"
      ]
    },
    {
      "cell_type": "code",
      "metadata": {
        "id": "R3Pnu8wlXZKH",
        "colab_type": "code",
        "outputId": "5b0bc1ca-132d-4903-9d39-8c1448c9876a",
        "colab": {
          "base_uri": "https://localhost:8080/",
          "height": 1000
        }
      },
      "source": [
        "for i in range (5):\n",
        "  plt.figure ()\n",
        "  plt.scatter (X_test [ : ,i], Y_test, color = 'red')\n",
        "  plt.scatter (X_test [ : ,i], lin_reg.predict (poly_reg.fit_transform (X_test)), color = 'blue')\n",
        "  plt.title ('TARGET vs FEATURE ' + str (i+1))\n",
        "  plt.xlabel ('FEATURE ' + str (i+1))\n",
        "  plt.ylabel ('TARGET')\n",
        "  plt.show ()"
      ],
      "execution_count": 11,
      "outputs": [
        {
          "output_type": "display_data",
          "data": {
            "image/png": "[encoded data removed]",
            "text/plain": [
              "<Figure size 432x288 with 1 Axes>"
            ]
          },
          "metadata": {
            "tags": [],
            "needs_background": "light"
          }
        },
        {
          "output_type": "display_data",
          "data": {
            "image/png": "[encoded data removed]",
            "text/plain": [
              "<Figure size 432x288 with 1 Axes>"
            ]
          },
          "metadata": {
            "tags": [],
            "needs_background": "light"
          }
        },
        {
          "output_type": "display_data",
          "data": {
            "image/png": "[encoded data removed]",
            "text/plain": [
              "<Figure size 432x288 with 1 Axes>"
            ]
          },
          "metadata": {
            "tags": [],
            "needs_background": "light"
          }
        },
        {
          "output_type": "display_data",
          "data": {
            "image/png": "[encoded data removed]",
            "text/plain": [
              "<Figure size 432x288 with 1 Axes>"
            ]
          },
          "metadata": {
            "tags": [],
            "needs_background": "light"
          }
        },
        {
          "output_type": "display_data",
          "data": {
            "image/png": "[encoded data removed]",
            "text/plain": [
              "<Figure size 432x288 with 1 Axes>"
            ]
          },
          "metadata": {
            "tags": [],
            "needs_background": "light"
          }
        }
      ]
    }
  ]
}