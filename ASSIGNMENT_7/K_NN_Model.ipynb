{
  "nbformat": 4,
  "nbformat_minor": 0,
  "metadata": {
    "colab": {
      "name": "K-NN_Model.ipynb",
      "provenance": [],
      "toc_visible": true,
      "authorship_tag": "ABX9TyOKLzvh4abpVl7xnG2xg6VW",
      "include_colab_link": true
    },
    "kernelspec": {
      "name": "python3",
      "display_name": "Python 3"
    }
  },
  "cells": [
    {
      "cell_type": "markdown",
      "metadata": {
        "id": "view-in-github",
        "colab_type": "text"
      },
      "source": [
        "<a href=\"https://colab.research.google.com/github/SidharrthSingh25/ML/blob/master/ASSIGNMENT_7/K_NN_Model.ipynb\" target=\"_parent\"><img src=\"https://colab.research.google.com/assets/colab-badge.svg\" alt=\"Open In Colab\"/></a>"
      ]
    },
    {
      "cell_type": "markdown",
      "metadata": {
        "id": "kwJPmPEx55B9",
        "colab_type": "text"
      },
      "source": [
        "## 1. DATA PREPROCESSING"
      ]
    },
    {
      "cell_type": "markdown",
      "metadata": {
        "id": "jHhyaQit55Eb",
        "colab_type": "text"
      },
      "source": [
        "1.1 IMPORTING LIBRARIES"
      ]
    },
    {
      "cell_type": "code",
      "metadata": {
        "id": "vKcklV-75-h1",
        "colab_type": "code",
        "colab": {}
      },
      "source": [
        "import numpy as np\n",
        "import matplotlib.pyplot as plt\n",
        "import pandas as pd"
      ],
      "execution_count": 1,
      "outputs": []
    },
    {
      "cell_type": "markdown",
      "metadata": {
        "id": "yX-MeBAv55HA",
        "colab_type": "text"
      },
      "source": [
        "1.2 IMPORTING DATASETS"
      ]
    },
    {
      "cell_type": "code",
      "metadata": {
        "id": "c2Kt4Gvu6G33",
        "colab_type": "code",
        "colab": {}
      },
      "source": [
        "dataset = pd.read_csv ('datasets_4458_8204_winequality-red.csv')\n",
        "X = dataset.iloc [ : , :-1].values\n",
        "Y = dataset.iloc [ : ,-1].values"
      ],
      "execution_count": 2,
      "outputs": []
    },
    {
      "cell_type": "code",
      "metadata": {
        "id": "Ugm80oZR7PNj",
        "colab_type": "code",
        "colab": {
          "base_uri": "https://localhost:8080/",
          "height": 140
        },
        "outputId": "dbd2d199-91c7-4cea-c1ef-e009331cf227"
      },
      "source": [
        "print (X)"
      ],
      "execution_count": 3,
      "outputs": [
        {
          "output_type": "stream",
          "text": [
            "[[ 7.4    0.7    0.    ...  3.51   0.56   9.4  ]\n",
            " [ 7.8    0.88   0.    ...  3.2    0.68   9.8  ]\n",
            " [ 7.8    0.76   0.04  ...  3.26   0.65   9.8  ]\n",
            " ...\n",
            " [ 6.3    0.51   0.13  ...  3.42   0.75  11.   ]\n",
            " [ 5.9    0.645  0.12  ...  3.57   0.71  10.2  ]\n",
            " [ 6.     0.31   0.47  ...  3.39   0.66  11.   ]]\n"
          ],
          "name": "stdout"
        }
      ]
    },
    {
      "cell_type": "code",
      "metadata": {
        "id": "y8HMdDWp7PQB",
        "colab_type": "code",
        "colab": {
          "base_uri": "https://localhost:8080/",
          "height": 35
        },
        "outputId": "3a722d7e-357f-4343-d41c-ceb59d82e1ba"
      },
      "source": [
        "print (Y)"
      ],
      "execution_count": 4,
      "outputs": [
        {
          "output_type": "stream",
          "text": [
            "[5 5 5 ... 6 5 6]\n"
          ],
          "name": "stdout"
        }
      ]
    },
    {
      "cell_type": "code",
      "metadata": {
        "id": "wl0d21nk7PYc",
        "colab_type": "code",
        "colab": {}
      },
      "source": [
        "for i in range (1599):\n",
        "  if Y[i]>=7:\n",
        "    Y[i]=1\n",
        "  else:\n",
        "    Y[i]=0"
      ],
      "execution_count": 5,
      "outputs": []
    },
    {
      "cell_type": "code",
      "metadata": {
        "id": "FzOeR89Z7Pok",
        "colab_type": "code",
        "colab": {
          "base_uri": "https://localhost:8080/",
          "height": 35
        },
        "outputId": "0eeaee75-36a8-460c-aabc-32d70a339ddc"
      },
      "source": [
        "print (Y)"
      ],
      "execution_count": 6,
      "outputs": [
        {
          "output_type": "stream",
          "text": [
            "[0 0 0 ... 0 0 0]\n"
          ],
          "name": "stdout"
        }
      ]
    },
    {
      "cell_type": "markdown",
      "metadata": {
        "id": "PEhMpDnD55Jv",
        "colab_type": "text"
      },
      "source": [
        "1.3 SPLITTING INTO TRAINING AND TEST SET"
      ]
    },
    {
      "cell_type": "code",
      "metadata": {
        "id": "uPLnP_6x70td",
        "colab_type": "code",
        "colab": {}
      },
      "source": [
        "from sklearn.model_selection import train_test_split\n",
        "X_train, X_test, Y_train, Y_test = train_test_split (X, Y, test_size = 0.125, random_state = 0)"
      ],
      "execution_count": 7,
      "outputs": []
    },
    {
      "cell_type": "code",
      "metadata": {
        "id": "qfDEqA_s70wU",
        "colab_type": "code",
        "colab": {
          "base_uri": "https://localhost:8080/",
          "height": 140
        },
        "outputId": "4381c8ed-065d-4c5f-c0a1-fdeca213d9d9"
      },
      "source": [
        "print (X_train)"
      ],
      "execution_count": 8,
      "outputs": [
        {
          "output_type": "stream",
          "text": [
            "[[ 8.8   0.42  0.21 ...  3.19  0.52  9.2 ]\n",
            " [ 6.8   0.49  0.22 ...  3.41  0.83 11.3 ]\n",
            " [ 7.5   0.63  0.27 ...  3.26  0.58  9.8 ]\n",
            " ...\n",
            " [ 7.9   0.57  0.31 ...  3.29  0.69  9.5 ]\n",
            " [13.    0.47  0.49 ...  3.3   0.68 12.7 ]\n",
            " [ 9.8   0.98  0.32 ...  3.25  0.48  9.4 ]]\n"
          ],
          "name": "stdout"
        }
      ]
    },
    {
      "cell_type": "code",
      "metadata": {
        "id": "-XQ1bAmd70y5",
        "colab_type": "code",
        "colab": {
          "base_uri": "https://localhost:8080/",
          "height": 35
        },
        "outputId": "41ae3405-2695-4473-9a55-cd90df97ac19"
      },
      "source": [
        "print (Y_train)"
      ],
      "execution_count": 9,
      "outputs": [
        {
          "output_type": "stream",
          "text": [
            "[0 0 0 ... 0 0 0]\n"
          ],
          "name": "stdout"
        }
      ]
    },
    {
      "cell_type": "code",
      "metadata": {
        "id": "e1MD-m3q701n",
        "colab_type": "code",
        "colab": {
          "base_uri": "https://localhost:8080/",
          "height": 140
        },
        "outputId": "b155116a-132f-47b3-a625-69cdd7e15a67"
      },
      "source": [
        "print (X_test)"
      ],
      "execution_count": 10,
      "outputs": [
        {
          "output_type": "stream",
          "text": [
            "[[10.8   0.47  0.43 ...  3.17  0.76 10.8 ]\n",
            " [ 8.1   0.82  0.   ...  3.36  0.53  9.6 ]\n",
            " [ 9.1   0.29  0.33 ...  3.26  0.84 11.7 ]\n",
            " ...\n",
            " [ 9.    0.82  0.14 ...  3.39  0.63  9.8 ]\n",
            " [ 9.1   0.64  0.23 ...  3.28  0.59  9.7 ]\n",
            " [ 8.9   0.62  0.18 ...  3.16  0.88  9.2 ]]\n"
          ],
          "name": "stdout"
        }
      ]
    },
    {
      "cell_type": "code",
      "metadata": {
        "id": "FNHc2-Nr704Y",
        "colab_type": "code",
        "colab": {
          "base_uri": "https://localhost:8080/",
          "height": 123
        },
        "outputId": "bfd4bb00-1a91-4bca-eaba-ba766fdcfa5f"
      },
      "source": [
        "print (Y_test)"
      ],
      "execution_count": 11,
      "outputs": [
        {
          "output_type": "stream",
          "text": [
            "[0 0 1 0 0 0 0 0 0 0 0 0 0 0 0 0 1 0 0 0 1 0 0 0 0 0 0 1 0 0 0 0 0 0 1 1 0\n",
            " 0 0 1 0 1 0 0 0 0 0 0 0 0 0 0 0 0 0 0 0 0 0 0 0 0 0 0 0 0 0 0 0 0 0 0 0 0\n",
            " 0 0 0 0 0 0 0 0 0 0 0 0 0 0 0 0 0 0 0 0 1 0 0 0 0 0 1 0 0 0 0 0 0 0 1 0 0\n",
            " 0 1 0 0 0 0 1 0 0 0 1 0 0 0 0 0 0 0 0 0 0 0 0 0 0 0 0 1 0 0 0 0 0 0 0 1 0\n",
            " 0 0 0 0 0 0 0 0 0 0 0 0 0 0 0 0 0 0 0 0 0 0 0 0 0 1 0 0 0 1 1 0 0 1 0 0 0\n",
            " 0 0 0 0 0 0 0 0 0 0 0 0 0 0 0]\n"
          ],
          "name": "stdout"
        }
      ]
    },
    {
      "cell_type": "markdown",
      "metadata": {
        "id": "pnmQZ7PY55MK",
        "colab_type": "text"
      },
      "source": [
        "1.4 FEATURE SCALING"
      ]
    },
    {
      "cell_type": "code",
      "metadata": {
        "id": "Foqk5R3G8KVi",
        "colab_type": "code",
        "colab": {}
      },
      "source": [
        "from sklearn.preprocessing import StandardScaler\n",
        "sc_X = StandardScaler ()\n",
        "X_train = sc_X.fit_transform (X_train)\n",
        "X_test = sc_X.transform (X_test)"
      ],
      "execution_count": 12,
      "outputs": []
    },
    {
      "cell_type": "code",
      "metadata": {
        "id": "jkfJpBY18KX6",
        "colab_type": "code",
        "colab": {
          "base_uri": "https://localhost:8080/",
          "height": 246
        },
        "outputId": "18a7a09f-9b25-4b85-a1b0-6950ee54a3f8"
      },
      "source": [
        "print (X_train)"
      ],
      "execution_count": 13,
      "outputs": [
        {
          "output_type": "stream",
          "text": [
            "[[ 0.27229747 -0.60301283 -0.31403918 ... -0.7821096  -0.80156469\n",
            "  -1.14265192]\n",
            " [-0.88365508 -0.2184277  -0.26295304 ...  0.64767     0.99275032\n",
            "   0.83688464]\n",
            " [-0.47907169  0.55074256 -0.00752233 ... -0.32717973 -0.45427791\n",
            "  -0.57707004]\n",
            " ...\n",
            " [-0.24788118  0.22109816  0.19682223 ... -0.13220978  0.18241451\n",
            "  -0.85986098]\n",
            " [ 2.69979784 -0.32830917  1.11637278 ... -0.0672198   0.12453338\n",
            "   2.15657567]\n",
            " [ 0.85027375  2.47366821  0.24790837 ... -0.39216971 -1.03308921\n",
            "  -0.95412463]]\n"
          ],
          "name": "stdout"
        }
      ]
    },
    {
      "cell_type": "code",
      "metadata": {
        "id": "B5txBB2B8Kaa",
        "colab_type": "code",
        "colab": {
          "base_uri": "https://localhost:8080/",
          "height": 246
        },
        "outputId": "aa3cc643-4c82-46a9-fdf7-f71c5492067d"
      },
      "source": [
        "print (X_test)"
      ],
      "execution_count": 14,
      "outputs": [
        {
          "output_type": "stream",
          "text": [
            "[[ 1.42825003 -0.32830917  0.80985593 ... -0.91208957  0.58758242\n",
            "   0.36556641]\n",
            " [-0.13228592  1.59461648 -1.38684815 ...  0.32272009 -0.74368356\n",
            "  -0.76559733]\n",
            " [ 0.44569036 -1.31724236  0.29899451 ... -0.32717973  1.05063145\n",
            "   1.21393922]\n",
            " ...\n",
            " [ 0.38789273  1.59461648 -0.67164217 ...  0.51769003 -0.16487227\n",
            "  -0.57707004]\n",
            " [ 0.44569036  0.60568329 -0.2118669  ... -0.19719977 -0.39639678\n",
            "  -0.67133369]\n",
            " [ 0.3300951   0.49580182 -0.46729761 ... -0.97707955  1.28215597\n",
            "  -1.14265192]]\n"
          ],
          "name": "stdout"
        }
      ]
    },
    {
      "cell_type": "markdown",
      "metadata": {
        "id": "bmjsR7Q255O4",
        "colab_type": "text"
      },
      "source": [
        "## 2. K-NN MODEL"
      ]
    },
    {
      "cell_type": "markdown",
      "metadata": {
        "id": "nY6OmSNl55Rj",
        "colab_type": "text"
      },
      "source": [
        "2.1 TRAINING K-NN MODEL ON TRAINING SET"
      ]
    },
    {
      "cell_type": "code",
      "metadata": {
        "id": "UN_MZI3f8m4z",
        "colab_type": "code",
        "colab": {
          "base_uri": "https://localhost:8080/",
          "height": 70
        },
        "outputId": "b9b7a971-b6ae-477e-a9d7-9b3ef86329bb"
      },
      "source": [
        "from sklearn.neighbors import KNeighborsClassifier\n",
        "classifier = KNeighborsClassifier ()\n",
        "classifier.fit (X_train, Y_train)"
      ],
      "execution_count": 15,
      "outputs": [
        {
          "output_type": "execute_result",
          "data": {
            "text/plain": [
              "KNeighborsClassifier(algorithm='auto', leaf_size=30, metric='minkowski',\n",
              "                     metric_params=None, n_jobs=None, n_neighbors=5, p=2,\n",
              "                     weights='uniform')"
            ]
          },
          "metadata": {
            "tags": []
          },
          "execution_count": 15
        }
      ]
    },
    {
      "cell_type": "markdown",
      "metadata": {
        "id": "5B8LJkQp55UV",
        "colab_type": "text"
      },
      "source": [
        "2.2 PREDICTING NEW RESULT"
      ]
    },
    {
      "cell_type": "code",
      "metadata": {
        "id": "PHvDg_aO8yAg",
        "colab_type": "code",
        "colab": {
          "base_uri": "https://localhost:8080/",
          "height": 35
        },
        "outputId": "d3b4f32b-678d-4a6b-f55b-eb78eaae671a"
      },
      "source": [
        "print (classifier.predict ([[7.4,0.7,0.0,1.9,0.076,11.0,34.0,0.9978,3.51,0.56,9.4]]))"
      ],
      "execution_count": 16,
      "outputs": [
        {
          "output_type": "stream",
          "text": [
            "[0]\n"
          ],
          "name": "stdout"
        }
      ]
    },
    {
      "cell_type": "markdown",
      "metadata": {
        "id": "E_fTH7Nw55W9",
        "colab_type": "text"
      },
      "source": [
        "2.3 PREDICTING TEST SET RESULTS"
      ]
    },
    {
      "cell_type": "code",
      "metadata": {
        "id": "9rYdwvYE8-Er",
        "colab_type": "code",
        "colab": {
          "base_uri": "https://localhost:8080/",
          "height": 1000
        },
        "outputId": "e2bd4cd9-9bbf-4c52-f4f2-55c12024620f"
      },
      "source": [
        "Y_pred = classifier.predict (X_test)\n",
        "print (np.concatenate ((Y_pred.reshape (len (Y_pred),1), Y_test.reshape (len (Y_test),1)),1))"
      ],
      "execution_count": 17,
      "outputs": [
        {
          "output_type": "stream",
          "text": [
            "[[0 0]\n",
            " [0 0]\n",
            " [1 1]\n",
            " [0 0]\n",
            " [0 0]\n",
            " [0 0]\n",
            " [0 0]\n",
            " [0 0]\n",
            " [0 0]\n",
            " [0 0]\n",
            " [0 0]\n",
            " [0 0]\n",
            " [0 0]\n",
            " [0 0]\n",
            " [0 0]\n",
            " [1 0]\n",
            " [1 1]\n",
            " [0 0]\n",
            " [0 0]\n",
            " [0 0]\n",
            " [0 1]\n",
            " [0 0]\n",
            " [0 0]\n",
            " [0 0]\n",
            " [0 0]\n",
            " [0 0]\n",
            " [0 0]\n",
            " [1 1]\n",
            " [0 0]\n",
            " [0 0]\n",
            " [1 0]\n",
            " [0 0]\n",
            " [0 0]\n",
            " [0 0]\n",
            " [0 1]\n",
            " [0 1]\n",
            " [0 0]\n",
            " [0 0]\n",
            " [0 0]\n",
            " [1 1]\n",
            " [0 0]\n",
            " [1 1]\n",
            " [1 0]\n",
            " [0 0]\n",
            " [0 0]\n",
            " [0 0]\n",
            " [0 0]\n",
            " [0 0]\n",
            " [0 0]\n",
            " [0 0]\n",
            " [0 0]\n",
            " [0 0]\n",
            " [0 0]\n",
            " [1 0]\n",
            " [0 0]\n",
            " [0 0]\n",
            " [0 0]\n",
            " [0 0]\n",
            " [1 0]\n",
            " [0 0]\n",
            " [0 0]\n",
            " [0 0]\n",
            " [0 0]\n",
            " [0 0]\n",
            " [0 0]\n",
            " [0 0]\n",
            " [0 0]\n",
            " [0 0]\n",
            " [0 0]\n",
            " [0 0]\n",
            " [0 0]\n",
            " [0 0]\n",
            " [0 0]\n",
            " [0 0]\n",
            " [0 0]\n",
            " [0 0]\n",
            " [0 0]\n",
            " [0 0]\n",
            " [0 0]\n",
            " [1 0]\n",
            " [0 0]\n",
            " [0 0]\n",
            " [0 0]\n",
            " [0 0]\n",
            " [0 0]\n",
            " [0 0]\n",
            " [0 0]\n",
            " [0 0]\n",
            " [0 0]\n",
            " [0 0]\n",
            " [0 0]\n",
            " [0 0]\n",
            " [0 0]\n",
            " [0 0]\n",
            " [0 1]\n",
            " [0 0]\n",
            " [0 0]\n",
            " [0 0]\n",
            " [0 0]\n",
            " [0 0]\n",
            " [1 1]\n",
            " [0 0]\n",
            " [0 0]\n",
            " [0 0]\n",
            " [0 0]\n",
            " [0 0]\n",
            " [0 0]\n",
            " [0 0]\n",
            " [0 1]\n",
            " [0 0]\n",
            " [0 0]\n",
            " [0 0]\n",
            " [1 1]\n",
            " [0 0]\n",
            " [0 0]\n",
            " [0 0]\n",
            " [1 0]\n",
            " [1 1]\n",
            " [0 0]\n",
            " [0 0]\n",
            " [0 0]\n",
            " [0 1]\n",
            " [0 0]\n",
            " [0 0]\n",
            " [0 0]\n",
            " [1 0]\n",
            " [0 0]\n",
            " [0 0]\n",
            " [0 0]\n",
            " [1 0]\n",
            " [0 0]\n",
            " [0 0]\n",
            " [0 0]\n",
            " [0 0]\n",
            " [0 0]\n",
            " [0 0]\n",
            " [0 0]\n",
            " [0 0]\n",
            " [0 1]\n",
            " [0 0]\n",
            " [0 0]\n",
            " [0 0]\n",
            " [0 0]\n",
            " [0 0]\n",
            " [0 0]\n",
            " [0 0]\n",
            " [1 1]\n",
            " [0 0]\n",
            " [0 0]\n",
            " [0 0]\n",
            " [0 0]\n",
            " [0 0]\n",
            " [0 0]\n",
            " [0 0]\n",
            " [0 0]\n",
            " [0 0]\n",
            " [0 0]\n",
            " [0 0]\n",
            " [0 0]\n",
            " [0 0]\n",
            " [0 0]\n",
            " [0 0]\n",
            " [0 0]\n",
            " [0 0]\n",
            " [0 0]\n",
            " [0 0]\n",
            " [0 0]\n",
            " [0 0]\n",
            " [0 0]\n",
            " [0 0]\n",
            " [0 0]\n",
            " [0 0]\n",
            " [0 0]\n",
            " [1 1]\n",
            " [0 0]\n",
            " [0 0]\n",
            " [0 0]\n",
            " [1 1]\n",
            " [0 1]\n",
            " [0 0]\n",
            " [0 0]\n",
            " [1 1]\n",
            " [0 0]\n",
            " [0 0]\n",
            " [0 0]\n",
            " [0 0]\n",
            " [0 0]\n",
            " [0 0]\n",
            " [0 0]\n",
            " [0 0]\n",
            " [0 0]\n",
            " [0 0]\n",
            " [0 0]\n",
            " [0 0]\n",
            " [0 0]\n",
            " [0 0]\n",
            " [0 0]\n",
            " [0 0]\n",
            " [0 0]\n",
            " [0 0]]\n"
          ],
          "name": "stdout"
        }
      ]
    },
    {
      "cell_type": "markdown",
      "metadata": {
        "id": "ab50arFy55Zk",
        "colab_type": "text"
      },
      "source": [
        "2.4 MODEL ACCURACY"
      ]
    },
    {
      "cell_type": "code",
      "metadata": {
        "id": "S-tqQy4m9Q9O",
        "colab_type": "code",
        "colab": {
          "base_uri": "https://localhost:8080/",
          "height": 70
        },
        "outputId": "1e3a9b72-3675-4021-8389-4ca8e1b08ad0"
      },
      "source": [
        "from sklearn.metrics import confusion_matrix, accuracy_score\n",
        "cm = confusion_matrix (Y_test, Y_pred)\n",
        "print (cm)\n",
        "acc = accuracy_score (Y_test, Y_pred)\n",
        "print ('MODEL ACCURACY is - ' + str (acc*100) + '%')"
      ],
      "execution_count": 18,
      "outputs": [
        {
          "output_type": "stream",
          "text": [
            "[[171   9]\n",
            " [  8  12]]\n",
            "MODEL ACCURACY is - 91.5%\n"
          ],
          "name": "stdout"
        }
      ]
    },
    {
      "cell_type": "markdown",
      "metadata": {
        "id": "YPkJN3eb55b_",
        "colab_type": "text"
      },
      "source": [
        "## 3. VISUALISING TEST SET RESULTS"
      ]
    },
    {
      "cell_type": "code",
      "metadata": {
        "id": "VbOOtVJg7d_D",
        "colab_type": "code",
        "colab": {}
      },
      "source": [
        "X_test = sc_X.inverse_transform (X_test)"
      ],
      "execution_count": 19,
      "outputs": []
    },
    {
      "cell_type": "code",
      "metadata": {
        "id": "YET2mJIg7d8Q",
        "colab_type": "code",
        "colab": {
          "base_uri": "https://localhost:8080/",
          "height": 1000
        },
        "outputId": "4cad3d91-ab46-4375-bb7c-ba92188b4a9f"
      },
      "source": [
        "for i in range (11):\n",
        "  plt.figure ()\n",
        "  plt.scatter (X_test [ : ,i], Y_pred, color = 'blue')\n",
        "  plt.title ('K-NN MODEL')\n",
        "  plt.xlabel ('FEATURE ' + str (i+1))\n",
        "  plt.ylabel ('TARGET')\n",
        "  plt.show ()"
      ],
      "execution_count": 20,
      "outputs": [
        {
          "output_type": "display_data",
          "data": {
            "image/png": "[encoded data removed]",
            "text/plain": [
              "<Figure size 432x288 with 1 Axes>"
            ]
          },
          "metadata": {
            "tags": [],
            "needs_background": "light"
          }
        },
        {
          "output_type": "display_data",
          "data": {
            "image/png": "[encoded data removed]",
            "text/plain": [
              "<Figure size 432x288 with 1 Axes>"
            ]
          },
          "metadata": {
            "tags": [],
            "needs_background": "light"
          }
        },
        {
          "output_type": "display_data",
          "data": {
            "image/png": "[encoded data removed]",
            "text/plain": [
              "<Figure size 432x288 with 1 Axes>"
            ]
          },
          "metadata": {
            "tags": [],
            "needs_background": "light"
          }
        },
        {
          "output_type": "display_data",
          "data": {
            "image/png": "[encoded data removed]",
            "text/plain": [
              "<Figure size 432x288 with 1 Axes>"
            ]
          },
          "metadata": {
            "tags": [],
            "needs_background": "light"
          }
        },
        {
          "output_type": "display_data",
          "data": {
            "image/png": "[encoded data removed]",
            "text/plain": [
              "<Figure size 432x288 with 1 Axes>"
            ]
          },
          "metadata": {
            "tags": [],
            "needs_background": "light"
          }
        },
        {
          "output_type": "display_data",
          "data": {
            "image/png": "[encoded data removed]",
            "text/plain": [
              "<Figure size 432x288 with 1 Axes>"
            ]
          },
          "metadata": {
            "tags": [],
            "needs_background": "light"
          }
        },
        {
          "output_type": "display_data",
          "data": {
            "image/png": "[encoded data removed]",
            "text/plain": [
              "<Figure size 432x288 with 1 Axes>"
            ]
          },
          "metadata": {
            "tags": [],
            "needs_background": "light"
          }
        },
        {
          "output_type": "display_data",
          "data": {
            "image/png": "[encoded data removed]",
            "text/plain": [
              "<Figure size 432x288 with 1 Axes>"
            ]
          },
          "metadata": {
            "tags": [],
            "needs_background": "light"
          }
        },
        {
          "output_type": "display_data",
          "data": {
            "image/png": "[encoded data removed]",
            "text/plain": [
              "<Figure size 432x288 with 1 Axes>"
            ]
          },
          "metadata": {
            "tags": [],
            "needs_background": "light"
          }
        },
        {
          "output_type": "display_data",
          "data": {
            "image/png": "[encoded data removed]",
            "text/plain": [
              "<Figure size 432x288 with 1 Axes>"
            ]
          },
          "metadata": {
            "tags": [],
            "needs_background": "light"
          }
        },
        {
          "output_type": "display_data",
          "data": {
            "image/png": "[encoded data removed]",
            "text/plain": [
              "<Figure size 432x288 with 1 Axes>"
            ]
          },
          "metadata": {
            "tags": [],
            "needs_background": "light"
          }
        }
      ]
    }
  ]
}