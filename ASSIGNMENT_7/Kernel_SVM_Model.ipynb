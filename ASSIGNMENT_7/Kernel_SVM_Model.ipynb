{
  "nbformat": 4,
  "nbformat_minor": 0,
  "metadata": {
    "colab": {
      "name": "Kernel_SVM_Model.ipynb",
      "provenance": [],
      "toc_visible": true,
      "authorship_tag": "ABX9TyM/p4IWZY0/ErFe7C6nWoaq",
      "include_colab_link": true
    },
    "kernelspec": {
      "name": "python3",
      "display_name": "Python 3"
    }
  },
  "cells": [
    {
      "cell_type": "markdown",
      "metadata": {
        "id": "view-in-github",
        "colab_type": "text"
      },
      "source": [
        "<a href=\"https://colab.research.google.com/github/SidharrthSingh25/ML/blob/master/ASSIGNMENT_7/Kernel_SVM_Model.ipynb\" target=\"_parent\"><img src=\"https://colab.research.google.com/assets/colab-badge.svg\" alt=\"Open In Colab\"/></a>"
      ]
    },
    {
      "cell_type": "markdown",
      "metadata": {
        "id": "gsee7NdSErJq",
        "colab_type": "text"
      },
      "source": [
        "## 1. DATA PREPROCESSING"
      ]
    },
    {
      "cell_type": "markdown",
      "metadata": {
        "id": "NPc-xjovErL7",
        "colab_type": "text"
      },
      "source": [
        "1.1 IMPORTING LIBRARIES"
      ]
    },
    {
      "cell_type": "code",
      "metadata": {
        "id": "OQsvujpBExmu",
        "colab_type": "code",
        "colab": {}
      },
      "source": [
        "import numpy as np\n",
        "import matplotlib.pyplot as plt\n",
        "import pandas as pd"
      ],
      "execution_count": 1,
      "outputs": []
    },
    {
      "cell_type": "markdown",
      "metadata": {
        "id": "aDfTV9iIErQ7",
        "colab_type": "text"
      },
      "source": [
        "1.2 IMPORTING DATASETS"
      ]
    },
    {
      "cell_type": "code",
      "metadata": {
        "id": "CvBRMHduE9K9",
        "colab_type": "code",
        "colab": {}
      },
      "source": [
        "dataset = pd.read_csv ('datasets_4458_8204_winequality-red.csv')\n",
        "X = dataset.iloc [ : , :-1].values\n",
        "Y = dataset.iloc [ : ,-1].values"
      ],
      "execution_count": 2,
      "outputs": []
    },
    {
      "cell_type": "code",
      "metadata": {
        "id": "xsZHo1g7FQBm",
        "colab_type": "code",
        "colab": {
          "base_uri": "https://localhost:8080/",
          "height": 140
        },
        "outputId": "4d45d2e4-fe37-4a58-f866-97d2291b4430"
      },
      "source": [
        "print (X)"
      ],
      "execution_count": 3,
      "outputs": [
        {
          "output_type": "stream",
          "text": [
            "[[ 7.4    0.7    0.    ...  3.51   0.56   9.4  ]\n",
            " [ 7.8    0.88   0.    ...  3.2    0.68   9.8  ]\n",
            " [ 7.8    0.76   0.04  ...  3.26   0.65   9.8  ]\n",
            " ...\n",
            " [ 6.3    0.51   0.13  ...  3.42   0.75  11.   ]\n",
            " [ 5.9    0.645  0.12  ...  3.57   0.71  10.2  ]\n",
            " [ 6.     0.31   0.47  ...  3.39   0.66  11.   ]]\n"
          ],
          "name": "stdout"
        }
      ]
    },
    {
      "cell_type": "code",
      "metadata": {
        "id": "vmhKTf-FFQEU",
        "colab_type": "code",
        "colab": {
          "base_uri": "https://localhost:8080/",
          "height": 35
        },
        "outputId": "5056306e-ed71-409b-b032-80bacd610604"
      },
      "source": [
        "print (Y)"
      ],
      "execution_count": 4,
      "outputs": [
        {
          "output_type": "stream",
          "text": [
            "[5 5 5 ... 6 5 6]\n"
          ],
          "name": "stdout"
        }
      ]
    },
    {
      "cell_type": "code",
      "metadata": {
        "id": "B5Ar-mRBFQHB",
        "colab_type": "code",
        "colab": {}
      },
      "source": [
        "for i in range (1599):\n",
        "  if Y[i]>=7:\n",
        "    Y[i]=1\n",
        "  else:\n",
        "    Y[i]=0"
      ],
      "execution_count": 5,
      "outputs": []
    },
    {
      "cell_type": "code",
      "metadata": {
        "id": "j8HQ6PjPFQJx",
        "colab_type": "code",
        "colab": {
          "base_uri": "https://localhost:8080/",
          "height": 35
        },
        "outputId": "59eb6811-e882-475e-e81f-2671612f5b49"
      },
      "source": [
        "print (Y)"
      ],
      "execution_count": 6,
      "outputs": [
        {
          "output_type": "stream",
          "text": [
            "[0 0 0 ... 0 0 0]\n"
          ],
          "name": "stdout"
        }
      ]
    },
    {
      "cell_type": "markdown",
      "metadata": {
        "id": "VYTRoFOmErTa",
        "colab_type": "text"
      },
      "source": [
        "1.3 SPLITTING INTO TRAINING AND TEST SET"
      ]
    },
    {
      "cell_type": "code",
      "metadata": {
        "id": "0IzN3KegFhJ9",
        "colab_type": "code",
        "colab": {}
      },
      "source": [
        "from sklearn.model_selection import train_test_split\n",
        "X_train, X_test, Y_train, Y_test = train_test_split (X, Y, test_size = 0.125, random_state = 0)"
      ],
      "execution_count": 7,
      "outputs": []
    },
    {
      "cell_type": "code",
      "metadata": {
        "id": "OhyInFr2IXYa",
        "colab_type": "code",
        "colab": {
          "base_uri": "https://localhost:8080/",
          "height": 140
        },
        "outputId": "250be225-cce6-44da-b3d3-4d5b1a777122"
      },
      "source": [
        "print (X_train)"
      ],
      "execution_count": 8,
      "outputs": [
        {
          "output_type": "stream",
          "text": [
            "[[ 8.8   0.42  0.21 ...  3.19  0.52  9.2 ]\n",
            " [ 6.8   0.49  0.22 ...  3.41  0.83 11.3 ]\n",
            " [ 7.5   0.63  0.27 ...  3.26  0.58  9.8 ]\n",
            " ...\n",
            " [ 7.9   0.57  0.31 ...  3.29  0.69  9.5 ]\n",
            " [13.    0.47  0.49 ...  3.3   0.68 12.7 ]\n",
            " [ 9.8   0.98  0.32 ...  3.25  0.48  9.4 ]]\n"
          ],
          "name": "stdout"
        }
      ]
    },
    {
      "cell_type": "code",
      "metadata": {
        "id": "bOWjGZbwIXay",
        "colab_type": "code",
        "colab": {
          "base_uri": "https://localhost:8080/",
          "height": 35
        },
        "outputId": "cc77c554-3d09-4f78-99c9-9b94c6d4a609"
      },
      "source": [
        "print (Y_train)"
      ],
      "execution_count": 9,
      "outputs": [
        {
          "output_type": "stream",
          "text": [
            "[0 0 0 ... 0 0 0]\n"
          ],
          "name": "stdout"
        }
      ]
    },
    {
      "cell_type": "code",
      "metadata": {
        "id": "Ct9vRp67IXdT",
        "colab_type": "code",
        "colab": {
          "base_uri": "https://localhost:8080/",
          "height": 140
        },
        "outputId": "733ecf80-a5ed-4821-d946-3a5171915506"
      },
      "source": [
        "print (X_test)"
      ],
      "execution_count": 10,
      "outputs": [
        {
          "output_type": "stream",
          "text": [
            "[[10.8   0.47  0.43 ...  3.17  0.76 10.8 ]\n",
            " [ 8.1   0.82  0.   ...  3.36  0.53  9.6 ]\n",
            " [ 9.1   0.29  0.33 ...  3.26  0.84 11.7 ]\n",
            " ...\n",
            " [ 9.    0.82  0.14 ...  3.39  0.63  9.8 ]\n",
            " [ 9.1   0.64  0.23 ...  3.28  0.59  9.7 ]\n",
            " [ 8.9   0.62  0.18 ...  3.16  0.88  9.2 ]]\n"
          ],
          "name": "stdout"
        }
      ]
    },
    {
      "cell_type": "code",
      "metadata": {
        "id": "pa5DVO4lIXfr",
        "colab_type": "code",
        "colab": {
          "base_uri": "https://localhost:8080/",
          "height": 123
        },
        "outputId": "8fb7d5bb-f439-446c-878c-0d7a32fcb5d2"
      },
      "source": [
        "print (Y_test)"
      ],
      "execution_count": 11,
      "outputs": [
        {
          "output_type": "stream",
          "text": [
            "[0 0 1 0 0 0 0 0 0 0 0 0 0 0 0 0 1 0 0 0 1 0 0 0 0 0 0 1 0 0 0 0 0 0 1 1 0\n",
            " 0 0 1 0 1 0 0 0 0 0 0 0 0 0 0 0 0 0 0 0 0 0 0 0 0 0 0 0 0 0 0 0 0 0 0 0 0\n",
            " 0 0 0 0 0 0 0 0 0 0 0 0 0 0 0 0 0 0 0 0 1 0 0 0 0 0 1 0 0 0 0 0 0 0 1 0 0\n",
            " 0 1 0 0 0 0 1 0 0 0 1 0 0 0 0 0 0 0 0 0 0 0 0 0 0 0 0 1 0 0 0 0 0 0 0 1 0\n",
            " 0 0 0 0 0 0 0 0 0 0 0 0 0 0 0 0 0 0 0 0 0 0 0 0 0 1 0 0 0 1 1 0 0 1 0 0 0\n",
            " 0 0 0 0 0 0 0 0 0 0 0 0 0 0 0]\n"
          ],
          "name": "stdout"
        }
      ]
    },
    {
      "cell_type": "markdown",
      "metadata": {
        "id": "qn1Y12hTErV7",
        "colab_type": "text"
      },
      "source": [
        "1.4 FEATURE SCALING"
      ]
    },
    {
      "cell_type": "code",
      "metadata": {
        "id": "SP2HWy6yIluu",
        "colab_type": "code",
        "colab": {}
      },
      "source": [
        "from sklearn.preprocessing import StandardScaler\n",
        "sc_X = StandardScaler ()\n",
        "X_train = sc_X.fit_transform (X_train)\n",
        "X_test = sc_X.transform (X_test)"
      ],
      "execution_count": 12,
      "outputs": []
    },
    {
      "cell_type": "code",
      "metadata": {
        "id": "8FZhEOXLIlxP",
        "colab_type": "code",
        "colab": {
          "base_uri": "https://localhost:8080/",
          "height": 246
        },
        "outputId": "3e3c571f-e127-4e25-8171-0ef3f6a87a55"
      },
      "source": [
        "print (X_train)"
      ],
      "execution_count": 13,
      "outputs": [
        {
          "output_type": "stream",
          "text": [
            "[[ 0.27229747 -0.60301283 -0.31403918 ... -0.7821096  -0.80156469\n",
            "  -1.14265192]\n",
            " [-0.88365508 -0.2184277  -0.26295304 ...  0.64767     0.99275032\n",
            "   0.83688464]\n",
            " [-0.47907169  0.55074256 -0.00752233 ... -0.32717973 -0.45427791\n",
            "  -0.57707004]\n",
            " ...\n",
            " [-0.24788118  0.22109816  0.19682223 ... -0.13220978  0.18241451\n",
            "  -0.85986098]\n",
            " [ 2.69979784 -0.32830917  1.11637278 ... -0.0672198   0.12453338\n",
            "   2.15657567]\n",
            " [ 0.85027375  2.47366821  0.24790837 ... -0.39216971 -1.03308921\n",
            "  -0.95412463]]\n"
          ],
          "name": "stdout"
        }
      ]
    },
    {
      "cell_type": "code",
      "metadata": {
        "id": "4Ot7wy2pIlzX",
        "colab_type": "code",
        "colab": {
          "base_uri": "https://localhost:8080/",
          "height": 246
        },
        "outputId": "a89c00da-4872-4b08-b0e9-860b033f8d55"
      },
      "source": [
        "print (X_test)"
      ],
      "execution_count": 14,
      "outputs": [
        {
          "output_type": "stream",
          "text": [
            "[[ 1.42825003 -0.32830917  0.80985593 ... -0.91208957  0.58758242\n",
            "   0.36556641]\n",
            " [-0.13228592  1.59461648 -1.38684815 ...  0.32272009 -0.74368356\n",
            "  -0.76559733]\n",
            " [ 0.44569036 -1.31724236  0.29899451 ... -0.32717973  1.05063145\n",
            "   1.21393922]\n",
            " ...\n",
            " [ 0.38789273  1.59461648 -0.67164217 ...  0.51769003 -0.16487227\n",
            "  -0.57707004]\n",
            " [ 0.44569036  0.60568329 -0.2118669  ... -0.19719977 -0.39639678\n",
            "  -0.67133369]\n",
            " [ 0.3300951   0.49580182 -0.46729761 ... -0.97707955  1.28215597\n",
            "  -1.14265192]]\n"
          ],
          "name": "stdout"
        }
      ]
    },
    {
      "cell_type": "markdown",
      "metadata": {
        "id": "MgG_gG3UErYa",
        "colab_type": "text"
      },
      "source": [
        "## 2. KERNEL SVM MODEL"
      ]
    },
    {
      "cell_type": "markdown",
      "metadata": {
        "id": "f9j9Pyx1ErbC",
        "colab_type": "text"
      },
      "source": [
        "2.1 TRAINING KERNEL SVM MODEL ON TRAINING SET"
      ]
    },
    {
      "cell_type": "code",
      "metadata": {
        "id": "FIS58wBaJA0s",
        "colab_type": "code",
        "colab": {
          "base_uri": "https://localhost:8080/",
          "height": 87
        },
        "outputId": "350ebac2-8f21-44d3-c144-e7b5906532fb"
      },
      "source": [
        "from sklearn.svm import SVC\n",
        "classifier = SVC (kernel = 'rbf', random_state = 0)\n",
        "classifier.fit (X_train, Y_train)"
      ],
      "execution_count": 15,
      "outputs": [
        {
          "output_type": "execute_result",
          "data": {
            "text/plain": [
              "SVC(C=1.0, break_ties=False, cache_size=200, class_weight=None, coef0=0.0,\n",
              "    decision_function_shape='ovr', degree=3, gamma='scale', kernel='rbf',\n",
              "    max_iter=-1, probability=False, random_state=0, shrinking=True, tol=0.001,\n",
              "    verbose=False)"
            ]
          },
          "metadata": {
            "tags": []
          },
          "execution_count": 15
        }
      ]
    },
    {
      "cell_type": "markdown",
      "metadata": {
        "id": "B1PwASeLErdv",
        "colab_type": "text"
      },
      "source": [
        "2.2 PREDICTING NEW RESULT"
      ]
    },
    {
      "cell_type": "code",
      "metadata": {
        "id": "yKqiWz6RVzvp",
        "colab_type": "code",
        "colab": {
          "base_uri": "https://localhost:8080/",
          "height": 35
        },
        "outputId": "fd5767a7-5beb-4f6d-9979-416aa1e45418"
      },
      "source": [
        "print (classifier.predict ([[7.4,0.7,0.0,1.9,0.076,11.0,34.0,0.9978,3.51,0.56,9.4]]))"
      ],
      "execution_count": 16,
      "outputs": [
        {
          "output_type": "stream",
          "text": [
            "[0]\n"
          ],
          "name": "stdout"
        }
      ]
    },
    {
      "cell_type": "markdown",
      "metadata": {
        "id": "oxa6ZxfjErgJ",
        "colab_type": "text"
      },
      "source": [
        "2.3 PREDICTING TEST SET RESULTS"
      ]
    },
    {
      "cell_type": "code",
      "metadata": {
        "id": "LdnGjNoJV4wM",
        "colab_type": "code",
        "colab": {
          "base_uri": "https://localhost:8080/",
          "height": 1000
        },
        "outputId": "afcaecc0-f9a3-4473-fd7e-9d23d0dfec83"
      },
      "source": [
        "Y_pred = classifier.predict (X_test)\n",
        "print (np.concatenate ((Y_pred.reshape (len (Y_pred),1), Y_test.reshape (len (Y_test),1)),1))"
      ],
      "execution_count": 17,
      "outputs": [
        {
          "output_type": "stream",
          "text": [
            "[[0 0]\n",
            " [0 0]\n",
            " [1 1]\n",
            " [0 0]\n",
            " [0 0]\n",
            " [0 0]\n",
            " [0 0]\n",
            " [0 0]\n",
            " [0 0]\n",
            " [0 0]\n",
            " [0 0]\n",
            " [0 0]\n",
            " [0 0]\n",
            " [0 0]\n",
            " [0 0]\n",
            " [0 0]\n",
            " [1 1]\n",
            " [0 0]\n",
            " [0 0]\n",
            " [0 0]\n",
            " [0 1]\n",
            " [0 0]\n",
            " [0 0]\n",
            " [0 0]\n",
            " [0 0]\n",
            " [0 0]\n",
            " [0 0]\n",
            " [1 1]\n",
            " [0 0]\n",
            " [0 0]\n",
            " [0 0]\n",
            " [0 0]\n",
            " [0 0]\n",
            " [0 0]\n",
            " [0 1]\n",
            " [0 1]\n",
            " [0 0]\n",
            " [0 0]\n",
            " [0 0]\n",
            " [0 1]\n",
            " [0 0]\n",
            " [0 1]\n",
            " [0 0]\n",
            " [0 0]\n",
            " [0 0]\n",
            " [0 0]\n",
            " [0 0]\n",
            " [0 0]\n",
            " [0 0]\n",
            " [0 0]\n",
            " [0 0]\n",
            " [0 0]\n",
            " [0 0]\n",
            " [0 0]\n",
            " [0 0]\n",
            " [0 0]\n",
            " [0 0]\n",
            " [0 0]\n",
            " [1 0]\n",
            " [0 0]\n",
            " [0 0]\n",
            " [0 0]\n",
            " [0 0]\n",
            " [0 0]\n",
            " [0 0]\n",
            " [0 0]\n",
            " [0 0]\n",
            " [0 0]\n",
            " [0 0]\n",
            " [0 0]\n",
            " [0 0]\n",
            " [0 0]\n",
            " [0 0]\n",
            " [0 0]\n",
            " [0 0]\n",
            " [0 0]\n",
            " [0 0]\n",
            " [0 0]\n",
            " [0 0]\n",
            " [0 0]\n",
            " [0 0]\n",
            " [0 0]\n",
            " [0 0]\n",
            " [0 0]\n",
            " [0 0]\n",
            " [0 0]\n",
            " [0 0]\n",
            " [0 0]\n",
            " [0 0]\n",
            " [0 0]\n",
            " [0 0]\n",
            " [0 0]\n",
            " [0 0]\n",
            " [0 0]\n",
            " [0 1]\n",
            " [0 0]\n",
            " [0 0]\n",
            " [0 0]\n",
            " [0 0]\n",
            " [0 0]\n",
            " [1 1]\n",
            " [0 0]\n",
            " [0 0]\n",
            " [0 0]\n",
            " [0 0]\n",
            " [0 0]\n",
            " [0 0]\n",
            " [0 0]\n",
            " [0 1]\n",
            " [0 0]\n",
            " [0 0]\n",
            " [0 0]\n",
            " [0 1]\n",
            " [0 0]\n",
            " [0 0]\n",
            " [0 0]\n",
            " [0 0]\n",
            " [1 1]\n",
            " [0 0]\n",
            " [0 0]\n",
            " [0 0]\n",
            " [0 1]\n",
            " [0 0]\n",
            " [0 0]\n",
            " [0 0]\n",
            " [1 0]\n",
            " [0 0]\n",
            " [0 0]\n",
            " [0 0]\n",
            " [1 0]\n",
            " [0 0]\n",
            " [0 0]\n",
            " [0 0]\n",
            " [0 0]\n",
            " [0 0]\n",
            " [0 0]\n",
            " [0 0]\n",
            " [0 0]\n",
            " [0 1]\n",
            " [0 0]\n",
            " [0 0]\n",
            " [0 0]\n",
            " [0 0]\n",
            " [0 0]\n",
            " [0 0]\n",
            " [0 0]\n",
            " [0 1]\n",
            " [1 0]\n",
            " [0 0]\n",
            " [0 0]\n",
            " [0 0]\n",
            " [0 0]\n",
            " [0 0]\n",
            " [0 0]\n",
            " [0 0]\n",
            " [0 0]\n",
            " [0 0]\n",
            " [0 0]\n",
            " [0 0]\n",
            " [0 0]\n",
            " [0 0]\n",
            " [0 0]\n",
            " [0 0]\n",
            " [0 0]\n",
            " [0 0]\n",
            " [0 0]\n",
            " [0 0]\n",
            " [0 0]\n",
            " [0 0]\n",
            " [0 0]\n",
            " [0 0]\n",
            " [0 0]\n",
            " [0 0]\n",
            " [1 1]\n",
            " [0 0]\n",
            " [0 0]\n",
            " [0 0]\n",
            " [1 1]\n",
            " [0 1]\n",
            " [0 0]\n",
            " [0 0]\n",
            " [1 1]\n",
            " [0 0]\n",
            " [0 0]\n",
            " [0 0]\n",
            " [0 0]\n",
            " [0 0]\n",
            " [0 0]\n",
            " [0 0]\n",
            " [0 0]\n",
            " [0 0]\n",
            " [0 0]\n",
            " [0 0]\n",
            " [0 0]\n",
            " [0 0]\n",
            " [0 0]\n",
            " [0 0]\n",
            " [0 0]\n",
            " [0 0]\n",
            " [0 0]]\n"
          ],
          "name": "stdout"
        }
      ]
    },
    {
      "cell_type": "markdown",
      "metadata": {
        "id": "rFxIox5WErik",
        "colab_type": "text"
      },
      "source": [
        "2.4 MODEL ACCURACY "
      ]
    },
    {
      "cell_type": "code",
      "metadata": {
        "id": "ZHwkUYXbWMJ-",
        "colab_type": "code",
        "colab": {
          "base_uri": "https://localhost:8080/",
          "height": 70
        },
        "outputId": "11d9a14d-5a77-4a8c-d689-dec9730c761c"
      },
      "source": [
        "from sklearn.metrics import confusion_matrix, accuracy_score\n",
        "cm = confusion_matrix (Y_test, Y_pred)\n",
        "print (cm)\n",
        "acc = accuracy_score (Y_test, Y_pred)\n",
        "print ('MODEL ACCURACY is - ' + str (acc*100) + '%')"
      ],
      "execution_count": 18,
      "outputs": [
        {
          "output_type": "stream",
          "text": [
            "[[176   4]\n",
            " [ 12   8]]\n",
            "MODEL ACCURACY is - 92.0%\n"
          ],
          "name": "stdout"
        }
      ]
    },
    {
      "cell_type": "markdown",
      "metadata": {
        "id": "ZH_esb02ErlJ",
        "colab_type": "text"
      },
      "source": [
        "## 3. VISUALISING TEST SET RESULTS"
      ]
    },
    {
      "cell_type": "code",
      "metadata": {
        "id": "uIFV_XBA7Zlz",
        "colab_type": "code",
        "colab": {}
      },
      "source": [
        "X_test = sc_X.inverse_transform (X_test)"
      ],
      "execution_count": 19,
      "outputs": []
    },
    {
      "cell_type": "code",
      "metadata": {
        "id": "DQ3o5ok07Ztw",
        "colab_type": "code",
        "colab": {
          "base_uri": "https://localhost:8080/",
          "height": 1000
        },
        "outputId": "089d7740-5740-47a4-8c8f-831d3271841d"
      },
      "source": [
        "for i in range (11):\n",
        "  plt.figure ()\n",
        "  plt.scatter (X_test [ : ,i], Y_pred, color = 'blue')\n",
        "  plt.title ('KERNEL SVM MODEL')\n",
        "  plt.xlabel ('FEATURE ' + str (i+1))\n",
        "  plt.ylabel ('TARGET')\n",
        "  plt.show ()"
      ],
      "execution_count": 20,
      "outputs": [
        {
          "output_type": "display_data",
          "data": {
            "image/png": "[encoded data removed]",
            "text/plain": [
              "<Figure size 432x288 with 1 Axes>"
            ]
          },
          "metadata": {
            "tags": [],
            "needs_background": "light"
          }
        },
        {
          "output_type": "display_data",
          "data": {
            "image/png": "[encoded data removed]",
            "text/plain": [
              "<Figure size 432x288 with 1 Axes>"
            ]
          },
          "metadata": {
            "tags": [],
            "needs_background": "light"
          }
        },
        {
          "output_type": "display_data",
          "data": {
            "image/png": "[encoded data removed]",
            "text/plain": [
              "<Figure size 432x288 with 1 Axes>"
            ]
          },
          "metadata": {
            "tags": [],
            "needs_background": "light"
          }
        },
        {
          "output_type": "display_data",
          "data": {
            "image/png": "[encoded data removed]",
            "text/plain": [
              "<Figure size 432x288 with 1 Axes>"
            ]
          },
          "metadata": {
            "tags": [],
            "needs_background": "light"
          }
        },
        {
          "output_type": "display_data",
          "data": {
            "image/png": "[encoded data removed]",
            "text/plain": [
              "<Figure size 432x288 with 1 Axes>"
            ]
          },
          "metadata": {
            "tags": [],
            "needs_background": "light"
          }
        },
        {
          "output_type": "display_data",
          "data": {
            "image/png": "[encoded data removed]",
            "text/plain": [
              "<Figure size 432x288 with 1 Axes>"
            ]
          },
          "metadata": {
            "tags": [],
            "needs_background": "light"
          }
        },
        {
          "output_type": "display_data",
          "data": {
            "image/png": "[encoded data removed]",
            "text/plain": [
              "<Figure size 432x288 with 1 Axes>"
            ]
          },
          "metadata": {
            "tags": [],
            "needs_background": "light"
          }
        },
        {
          "output_type": "display_data",
          "data": {
            "image/png": "[encoded data removed]",
            "text/plain": [
              "<Figure size 432x288 with 1 Axes>"
            ]
          },
          "metadata": {
            "tags": [],
            "needs_background": "light"
          }
        },
        {
          "output_type": "display_data",
          "data": {
            "image/png": "[encoded data removed]",
            "text/plain": [
              "<Figure size 432x288 with 1 Axes>"
            ]
          },
          "metadata": {
            "tags": [],
            "needs_background": "light"
          }
        },
        {
          "output_type": "display_data",
          "data": {
            "image/png": "[encoded data removed]",
            "text/plain": [
              "<Figure size 432x288 with 1 Axes>"
            ]
          },
          "metadata": {
            "tags": [],
            "needs_background": "light"
          }
        },
        {
          "output_type": "display_data",
          "data": {
            "image/png": "[encoded data removed]",
            "text/plain": [
              "<Figure size 432x288 with 1 Axes>"
            ]
          },
          "metadata": {
            "tags": [],
            "needs_background": "light"
          }
        }
      ]
    }
  ]
}