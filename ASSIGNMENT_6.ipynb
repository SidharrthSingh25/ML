{
  "nbformat": 4,
  "nbformat_minor": 0,
  "metadata": {
    "colab": {
      "name": "ASSIGNMENT 6.ipynb",
      "provenance": [],
      "toc_visible": true,
      "authorship_tag": "ABX9TyOjhLQs/cQ6sNgU0dl+muiN",
      "include_colab_link": true
    },
    "kernelspec": {
      "name": "python3",
      "display_name": "Python 3"
    }
  },
  "cells": [
    {
      "cell_type": "markdown",
      "metadata": {
        "id": "view-in-github",
        "colab_type": "text"
      },
      "source": [
        "<a href=\"https://colab.research.google.com/github/SidharrthSingh25/ML/blob/master/ASSIGNMENT_6.ipynb\" target=\"_parent\"><img src=\"https://colab.research.google.com/assets/colab-badge.svg\" alt=\"Open In Colab\"/></a>"
      ]
    },
    {
      "cell_type": "markdown",
      "metadata": {
        "id": "uzoXxfyT-QB2",
        "colab_type": "text"
      },
      "source": [
        "## 1. DATA PREPROCESSING"
      ]
    },
    {
      "cell_type": "markdown",
      "metadata": {
        "id": "84W55ON9-SOE",
        "colab_type": "text"
      },
      "source": [
        "1.1 IMPORTING LIBRARIES"
      ]
    },
    {
      "cell_type": "code",
      "metadata": {
        "id": "b3qbfYgd-WuL",
        "colab_type": "code",
        "colab": {}
      },
      "source": [
        "import numpy as np\n",
        "import matplotlib.pyplot as plt\n",
        "import pandas as pd"
      ],
      "execution_count": 384,
      "outputs": []
    },
    {
      "cell_type": "markdown",
      "metadata": {
        "id": "og9bhNlB-duj",
        "colab_type": "text"
      },
      "source": [
        "1.2 IMPORTING DATASET"
      ]
    },
    {
      "cell_type": "code",
      "metadata": {
        "id": "pZrDqn65-gVi",
        "colab_type": "code",
        "colab": {}
      },
      "source": [
        "dataset = pd.read_csv ('pulsar_stars.csv')\n",
        "X = dataset.iloc [ : , :-1].values\n",
        "Y = dataset.iloc [ : ,-1].values"
      ],
      "execution_count": 385,
      "outputs": []
    },
    {
      "cell_type": "markdown",
      "metadata": {
        "id": "2htxyfvj_kvk",
        "colab_type": "text"
      },
      "source": [
        "1.3 SPLITTING INTO TRAINING AND TEST SET"
      ]
    },
    {
      "cell_type": "code",
      "metadata": {
        "id": "N9Xdm89q_qew",
        "colab_type": "code",
        "colab": {}
      },
      "source": [
        "from sklearn.model_selection import train_test_split\n",
        "X_train, X_test, Y_train, Y_test = train_test_split (X, Y, test_size = 0.25, random_state = 0)"
      ],
      "execution_count": 386,
      "outputs": []
    },
    {
      "cell_type": "code",
      "metadata": {
        "id": "PJPfq1ng_875",
        "colab_type": "code",
        "colab": {
          "base_uri": "https://localhost:8080/",
          "height": 246
        },
        "outputId": "0ca12c50-abc7-42bf-9cec-57b95b3c9a9b"
      },
      "source": [
        "print (X_train)"
      ],
      "execution_count": 387,
      "outputs": [
        {
          "output_type": "stream",
          "text": [
            "[[ 1.33898438e+02  4.69297746e+01  3.87951750e-02 ...  1.95615370e+01\n",
            "   8.57437793e+00  8.07954514e+01]\n",
            " [ 2.70390625e+01  3.37547224e+01  4.77912374e+00 ...  7.88154399e+01\n",
            "  -3.48492115e-01 -8.93790697e-01]\n",
            " [ 1.07718750e+02  5.20618529e+01  2.78869299e-01 ...  4.05191430e+01\n",
            "   3.34724977e+00  1.04413225e+01]\n",
            " ...\n",
            " [ 1.33164062e+02  5.54754700e+01 -9.44232330e-02 ...  1.26535027e+01\n",
            "   1.21759792e+01  1.81458434e+02]\n",
            " [ 9.81718750e+01  4.88055948e+01  3.11807442e-01 ...  1.62043130e+01\n",
            "   1.02032095e+01  1.22776632e+02]\n",
            " [ 1.06046875e+02  4.20750556e+01  4.21143692e-01 ...  1.99249204e+01\n",
            "   7.31348277e+00  5.87921276e+01]]\n"
          ],
          "name": "stdout"
        }
      ]
    },
    {
      "cell_type": "code",
      "metadata": {
        "id": "82L6rklD_8-c",
        "colab_type": "code",
        "colab": {
          "base_uri": "https://localhost:8080/",
          "height": 35
        },
        "outputId": "7c087539-ef98-48ef-ecc6-eeb091b47451"
      },
      "source": [
        "print (Y_train)"
      ],
      "execution_count": 388,
      "outputs": [
        {
          "output_type": "stream",
          "text": [
            "[0 1 0 ... 0 0 0]\n"
          ],
          "name": "stdout"
        }
      ]
    },
    {
      "cell_type": "code",
      "metadata": {
        "id": "fB0CexBz_9D9",
        "colab_type": "code",
        "colab": {
          "base_uri": "https://localhost:8080/",
          "height": 246
        },
        "outputId": "70f72db7-a944-43b1-d3e3-7907f2bfffb3"
      },
      "source": [
        "print (X_test)"
      ],
      "execution_count": 389,
      "outputs": [
        {
          "output_type": "stream",
          "text": [
            "[[ 1.02289062e+02  4.57590757e+01  2.31697754e-01 ...  1.43430197e+01\n",
            "   9.50036830e+00  1.17057724e+02]\n",
            " [ 1.20093750e+02  5.17653114e+01  1.52884958e-01 ...  1.96742682e+01\n",
            "   7.96200404e+00  7.36250634e+01]\n",
            " [ 1.08820312e+02  5.80159506e+01  3.96478925e-01 ...  1.94694241e+01\n",
            "   9.30173415e+00  9.46556370e+01]\n",
            " ...\n",
            " [ 1.24601562e+02  4.96176537e+01 -7.67909800e-03 ...  1.54960315e+01\n",
            "   8.04710053e+00  8.64405361e+01]\n",
            " [ 1.02046875e+02  4.87905055e+01  4.52226380e-01 ...  1.39284014e+01\n",
            "   9.12749945e+00  1.16023222e+02]\n",
            " [ 1.16679688e+02  4.74069704e+01  6.94263630e-02 ...  8.26920169e+01\n",
            "  -1.92942742e-01 -1.87714766e+00]]\n"
          ],
          "name": "stdout"
        }
      ]
    },
    {
      "cell_type": "code",
      "metadata": {
        "id": "aCC-ZEEn_9Gg",
        "colab_type": "code",
        "colab": {
          "base_uri": "https://localhost:8080/",
          "height": 35
        },
        "outputId": "c55a58ca-e0dc-4f91-d1be-99e78d373a37"
      },
      "source": [
        "print (Y_test)"
      ],
      "execution_count": 390,
      "outputs": [
        {
          "output_type": "stream",
          "text": [
            "[0 0 0 ... 0 0 0]\n"
          ],
          "name": "stdout"
        }
      ]
    },
    {
      "cell_type": "markdown",
      "metadata": {
        "id": "KiXNs9j8A0sn",
        "colab_type": "text"
      },
      "source": [
        "1.4 FEATURE SCALING"
      ]
    },
    {
      "cell_type": "code",
      "metadata": {
        "id": "Y6wsCIqlA2hb",
        "colab_type": "code",
        "colab": {}
      },
      "source": [
        "from sklearn.preprocessing import StandardScaler\n",
        "sc_X = StandardScaler ()\n",
        "X_train = sc_X.fit_transform (X_train)\n",
        "X_test = sc_X.transform (X_test)"
      ],
      "execution_count": 391,
      "outputs": []
    },
    {
      "cell_type": "code",
      "metadata": {
        "id": "tTZbl16iBbAu",
        "colab_type": "code",
        "colab": {
          "base_uri": "https://localhost:8080/",
          "height": 246
        },
        "outputId": "3a0321a5-df65-42f6-e087-67a4f1033208"
      },
      "source": [
        "print (X_train)"
      ],
      "execution_count": 392,
      "outputs": [
        {
          "output_type": "stream",
          "text": [
            "[[ 0.89035     0.05299446 -0.41627838 ... -0.35147554  0.06520135\n",
            "  -0.22396846]\n",
            " [-3.24056646 -1.87170607  3.9915008  ...  2.67629293 -1.9123934\n",
            "  -0.99480636]\n",
            " [-0.12169131  0.80272308 -0.19304623 ...  0.71942064 -1.09329823\n",
            "  -0.88784571]\n",
            " ...\n",
            " [ 0.8619609   1.30140731 -0.54015109 ... -0.70446375  0.86343194\n",
            "   0.7259099 ]\n",
            " [-0.49074965  0.32702693 -0.16241881 ... -0.52302369  0.42620276\n",
            "   0.17217532]\n",
            " [-0.18632182 -0.65621566 -0.06075285 ... -0.33290731 -0.21425354\n",
            "  -0.43159673]]\n"
          ],
          "name": "stdout"
        }
      ]
    },
    {
      "cell_type": "code",
      "metadata": {
        "id": "aLJ2B5f-BbDc",
        "colab_type": "code",
        "colab": {
          "base_uri": "https://localhost:8080/",
          "height": 246
        },
        "outputId": "063c4507-442a-4c37-dee0-89dd67189b70"
      },
      "source": [
        "print (X_test)"
      ],
      "execution_count": 393,
      "outputs": [
        {
          "output_type": "stream",
          "text": [
            "[[-0.33158946 -0.11802914 -0.23690854 ... -0.61813245  0.27043057\n",
            "   0.11821043]\n",
            " [ 0.35669527  0.7594023  -0.31019236 ... -0.34571518 -0.07052038\n",
            "  -0.29162984]\n",
            " [-0.07910766  1.67253786 -0.0836873  ... -0.35618235  0.22640686\n",
            "  -0.09318065]\n",
            " ...\n",
            " [ 0.53095604  0.44565798 -0.45949233 ... -0.55921561 -0.05166027\n",
            "  -0.17070018]\n",
            " [-0.34095183  0.32482259 -0.03185071 ... -0.6393187   0.18779085\n",
            "   0.10844865]\n",
            " [ 0.22471615  0.12270643 -0.38779607 ...  2.87437909 -1.87791866\n",
            "  -1.00408554]]\n"
          ],
          "name": "stdout"
        }
      ]
    },
    {
      "cell_type": "markdown",
      "metadata": {
        "id": "wYzSJt_pHz1M",
        "colab_type": "text"
      },
      "source": [
        "## 2. LOGISTIC REGRESSION MODEL"
      ]
    },
    {
      "cell_type": "markdown",
      "metadata": {
        "id": "TXZYOHmnIRbV",
        "colab_type": "text"
      },
      "source": [
        "2.1 TRAINING LOGISTIC REGRESSION MODEL ON TRAINING SET"
      ]
    },
    {
      "cell_type": "code",
      "metadata": {
        "id": "NyLEfsIdIXSW",
        "colab_type": "code",
        "colab": {
          "base_uri": "https://localhost:8080/",
          "height": 105
        },
        "outputId": "e9d50315-d783-4f5d-a0c2-3598340e4b09"
      },
      "source": [
        "from sklearn.linear_model import LogisticRegression\n",
        "classifier_1 = LogisticRegression ()\n",
        "classifier_1.fit (X_train, Y_train)"
      ],
      "execution_count": 394,
      "outputs": [
        {
          "output_type": "execute_result",
          "data": {
            "text/plain": [
              "LogisticRegression(C=1.0, class_weight=None, dual=False, fit_intercept=True,\n",
              "                   intercept_scaling=1, l1_ratio=None, max_iter=100,\n",
              "                   multi_class='auto', n_jobs=None, penalty='l2',\n",
              "                   random_state=None, solver='lbfgs', tol=0.0001, verbose=0,\n",
              "                   warm_start=False)"
            ]
          },
          "metadata": {
            "tags": []
          },
          "execution_count": 394
        }
      ]
    },
    {
      "cell_type": "markdown",
      "metadata": {
        "id": "v-c0-sD8Ipj_",
        "colab_type": "text"
      },
      "source": [
        "2.2 PREDICTING A NEW RESULT"
      ]
    },
    {
      "cell_type": "code",
      "metadata": {
        "id": "2zuS_2rEJpZX",
        "colab_type": "code",
        "colab": {
          "base_uri": "https://localhost:8080/",
          "height": 35
        },
        "outputId": "1f1f6564-65ca-43c4-9784-5eb189a8c095"
      },
      "source": [
        "print (classifier_1.predict (sc_X.transform ([[140.5625,55.68378214,-0.234571412,-0.699648398,3.199832776,19.11042633,7.975531794,74.24222492,]])))"
      ],
      "execution_count": 395,
      "outputs": [
        {
          "output_type": "stream",
          "text": [
            "[0]\n"
          ],
          "name": "stdout"
        }
      ]
    },
    {
      "cell_type": "markdown",
      "metadata": {
        "id": "02iNXswdKerF",
        "colab_type": "text"
      },
      "source": [
        "2.3 PREDICTING TEST SET RESULTS"
      ]
    },
    {
      "cell_type": "code",
      "metadata": {
        "id": "oWQltYdqKjji",
        "colab_type": "code",
        "colab": {
          "base_uri": "https://localhost:8080/",
          "height": 140
        },
        "outputId": "5f908014-ca87-4385-beff-f9eb6a0d2fa3"
      },
      "source": [
        "Y_pred_1 = classifier_1.predict (X_test)\n",
        "print (np.concatenate ((Y_pred_1.reshape (len (Y_pred_1),1), Y_test.reshape (len (Y_test),1)),1))"
      ],
      "execution_count": 396,
      "outputs": [
        {
          "output_type": "stream",
          "text": [
            "[[0 0]\n",
            " [0 0]\n",
            " [0 0]\n",
            " ...\n",
            " [0 0]\n",
            " [0 0]\n",
            " [0 0]]\n"
          ],
          "name": "stdout"
        }
      ]
    },
    {
      "cell_type": "markdown",
      "metadata": {
        "id": "eJDaiAEYNCgz",
        "colab_type": "text"
      },
      "source": [
        "2.4 MODEL ACCURACY"
      ]
    },
    {
      "cell_type": "code",
      "metadata": {
        "id": "-a23FZ2hNF9g",
        "colab_type": "code",
        "colab": {
          "base_uri": "https://localhost:8080/",
          "height": 70
        },
        "outputId": "57f9214f-1be9-4b7b-cd09-10299516f644"
      },
      "source": [
        "from sklearn.metrics import confusion_matrix, accuracy_score\n",
        "cm_1 = confusion_matrix (Y_test, Y_pred_1)\n",
        "print (cm_1)\n",
        "acc_1 = accuracy_score (Y_test, Y_pred_1)\n",
        "print ('MODEL ACCURACY is - ' + str(acc_1*100) + '%')"
      ],
      "execution_count": 397,
      "outputs": [
        {
          "output_type": "stream",
          "text": [
            "[[4095   20]\n",
            " [  64  296]]\n",
            "MODEL ACCURACY is - 98.12290502793296%\n"
          ],
          "name": "stdout"
        }
      ]
    },
    {
      "cell_type": "markdown",
      "metadata": {
        "id": "VWPNSJiKLe-H",
        "colab_type": "text"
      },
      "source": [
        "## 3. K-NN MODEL"
      ]
    },
    {
      "cell_type": "markdown",
      "metadata": {
        "id": "TCIMI-R2LjGl",
        "colab_type": "text"
      },
      "source": [
        "3.1 TRAINING THE K-NN MODEL ON TRAINING SET"
      ]
    },
    {
      "cell_type": "code",
      "metadata": {
        "id": "7IclWVjqLquF",
        "colab_type": "code",
        "colab": {
          "base_uri": "https://localhost:8080/",
          "height": 70
        },
        "outputId": "e451ed10-8cec-469a-fa48-7b0d103e588b"
      },
      "source": [
        "from sklearn.neighbors import KNeighborsClassifier\n",
        "classifier_2 = KNeighborsClassifier ()\n",
        "classifier_2.fit (X_train, Y_train)"
      ],
      "execution_count": 398,
      "outputs": [
        {
          "output_type": "execute_result",
          "data": {
            "text/plain": [
              "KNeighborsClassifier(algorithm='auto', leaf_size=30, metric='minkowski',\n",
              "                     metric_params=None, n_jobs=None, n_neighbors=5, p=2,\n",
              "                     weights='uniform')"
            ]
          },
          "metadata": {
            "tags": []
          },
          "execution_count": 398
        }
      ]
    },
    {
      "cell_type": "markdown",
      "metadata": {
        "id": "GLHPcfgqMB38",
        "colab_type": "text"
      },
      "source": [
        "3.2 PREDICTING THE NEW RESULT"
      ]
    },
    {
      "cell_type": "code",
      "metadata": {
        "id": "FkVju2NWMHSN",
        "colab_type": "code",
        "colab": {
          "base_uri": "https://localhost:8080/",
          "height": 35
        },
        "outputId": "efe9cf79-961a-4d33-fd8c-3f9aedb16b5f"
      },
      "source": [
        "print (classifier_2.predict (sc_X.transform ([[140.5625,55.68378214,-0.234571412,-0.699648398,3.199832776,19.11042633,7.975531794,74.24222492,]])))"
      ],
      "execution_count": 399,
      "outputs": [
        {
          "output_type": "stream",
          "text": [
            "[0]\n"
          ],
          "name": "stdout"
        }
      ]
    },
    {
      "cell_type": "markdown",
      "metadata": {
        "id": "HFT_Cm78MMEt",
        "colab_type": "text"
      },
      "source": [
        "3.3 PREDICTING TEST SET RESULTS"
      ]
    },
    {
      "cell_type": "code",
      "metadata": {
        "id": "TXy4XeXEMRO2",
        "colab_type": "code",
        "colab": {
          "base_uri": "https://localhost:8080/",
          "height": 140
        },
        "outputId": "7ee94e59-a895-42d8-d911-844f1ef5edba"
      },
      "source": [
        "Y_pred_2 = classifier_2.predict (X_test)\n",
        "print (np.concatenate ((Y_pred_2.reshape (len (Y_pred_2),1), Y_test.reshape (len (Y_test),1)),1))"
      ],
      "execution_count": 400,
      "outputs": [
        {
          "output_type": "stream",
          "text": [
            "[[0 0]\n",
            " [0 0]\n",
            " [0 0]\n",
            " ...\n",
            " [0 0]\n",
            " [0 0]\n",
            " [0 0]]\n"
          ],
          "name": "stdout"
        }
      ]
    },
    {
      "cell_type": "markdown",
      "metadata": {
        "id": "jwZ3eTWmaq67",
        "colab_type": "text"
      },
      "source": [
        "3.4 MODEL ACCURACY"
      ]
    },
    {
      "cell_type": "code",
      "metadata": {
        "id": "ZJANaTk_a4H7",
        "colab_type": "code",
        "colab": {
          "base_uri": "https://localhost:8080/",
          "height": 70
        },
        "outputId": "6247a804-2576-4118-ecff-d63b03beec75"
      },
      "source": [
        "from sklearn.metrics import confusion_matrix, accuracy_score\n",
        "cm_2 = confusion_matrix (Y_test, Y_pred_2)\n",
        "print (cm_2)\n",
        "acc_2 = accuracy_score (Y_test, Y_pred_2)\n",
        "print ('MODEL ACCURACY is - ' + str (acc_2*100) + '%')"
      ],
      "execution_count": 401,
      "outputs": [
        {
          "output_type": "stream",
          "text": [
            "[[4094   21]\n",
            " [  55  305]]\n",
            "MODEL ACCURACY is - 98.30167597765363%\n"
          ],
          "name": "stdout"
        }
      ]
    },
    {
      "cell_type": "markdown",
      "metadata": {
        "id": "Z1puegeZF526",
        "colab_type": "text"
      },
      "source": [
        "## 4. SVM MODEL"
      ]
    },
    {
      "cell_type": "markdown",
      "metadata": {
        "id": "kuOs-iVRF9DH",
        "colab_type": "text"
      },
      "source": [
        "4.1 TRAINING SVM MODEL ON TRAINING SET"
      ]
    },
    {
      "cell_type": "code",
      "metadata": {
        "id": "K54BAgGiGDb1",
        "colab_type": "code",
        "colab": {
          "base_uri": "https://localhost:8080/",
          "height": 87
        },
        "outputId": "f4dd5f6f-e1e8-420a-ea1f-930774b5d409"
      },
      "source": [
        "from sklearn.svm import SVC\n",
        "classifier_3 = SVC (kernel = 'linear', random_state = 0)\n",
        "classifier_3.fit (X_train, Y_train)"
      ],
      "execution_count": 402,
      "outputs": [
        {
          "output_type": "execute_result",
          "data": {
            "text/plain": [
              "SVC(C=1.0, break_ties=False, cache_size=200, class_weight=None, coef0=0.0,\n",
              "    decision_function_shape='ovr', degree=3, gamma='scale', kernel='linear',\n",
              "    max_iter=-1, probability=False, random_state=0, shrinking=True, tol=0.001,\n",
              "    verbose=False)"
            ]
          },
          "metadata": {
            "tags": []
          },
          "execution_count": 402
        }
      ]
    },
    {
      "cell_type": "markdown",
      "metadata": {
        "id": "5JZlBMpJGTk6",
        "colab_type": "text"
      },
      "source": [
        "4.2 PREDICTING THE NEW RESULT"
      ]
    },
    {
      "cell_type": "code",
      "metadata": {
        "id": "maQAEn--GS3j",
        "colab_type": "code",
        "colab": {
          "base_uri": "https://localhost:8080/",
          "height": 35
        },
        "outputId": "7a1227ac-0a10-4541-ba63-bde59f29d1d2"
      },
      "source": [
        "print (classifier_3.predict (sc_X.transform ([[140.5625,55.68378214,-0.234571412,-0.699648398,3.199832776,19.11042633,7.975531794,74.24222492,]])))"
      ],
      "execution_count": 403,
      "outputs": [
        {
          "output_type": "stream",
          "text": [
            "[0]\n"
          ],
          "name": "stdout"
        }
      ]
    },
    {
      "cell_type": "markdown",
      "metadata": {
        "id": "7EEtk6G3GdWB",
        "colab_type": "text"
      },
      "source": [
        "4.3 PREDICTING TEST SET RESULTS"
      ]
    },
    {
      "cell_type": "code",
      "metadata": {
        "id": "hkxq7U7kGlj7",
        "colab_type": "code",
        "colab": {
          "base_uri": "https://localhost:8080/",
          "height": 140
        },
        "outputId": "2164ba7e-23da-4941-f120-32caf6386359"
      },
      "source": [
        "Y_pred_3 = classifier_3.predict (X_test)\n",
        "print (np.concatenate ((Y_pred_3.reshape (len (Y_pred_3),1), Y_test.reshape (len (Y_test),1)),1))"
      ],
      "execution_count": 404,
      "outputs": [
        {
          "output_type": "stream",
          "text": [
            "[[0 0]\n",
            " [0 0]\n",
            " [0 0]\n",
            " ...\n",
            " [0 0]\n",
            " [0 0]\n",
            " [0 0]]\n"
          ],
          "name": "stdout"
        }
      ]
    },
    {
      "cell_type": "markdown",
      "metadata": {
        "id": "06vgYHOCHad5",
        "colab_type": "text"
      },
      "source": [
        "4.4 MODEL ACCURACY"
      ]
    },
    {
      "cell_type": "code",
      "metadata": {
        "id": "sdoWdpACHcUN",
        "colab_type": "code",
        "colab": {
          "base_uri": "https://localhost:8080/",
          "height": 70
        },
        "outputId": "6c09ee93-109c-4f06-b50f-d1c11785d5aa"
      },
      "source": [
        "from sklearn.metrics import confusion_matrix, accuracy_score\n",
        "cm_3 = confusion_matrix (Y_test, Y_pred_3)\n",
        "print (cm_3)\n",
        "acc_3 = accuracy_score (Y_test, Y_pred_3)\n",
        "print ('MODEL ACCURACY is - ' + str (acc_3*100) + '%')"
      ],
      "execution_count": 405,
      "outputs": [
        {
          "output_type": "stream",
          "text": [
            "[[4095   20]\n",
            " [  64  296]]\n",
            "MODEL ACCURACY is - 98.12290502793296%\n"
          ],
          "name": "stdout"
        }
      ]
    },
    {
      "cell_type": "markdown",
      "metadata": {
        "id": "VVS-DD-nQBsT",
        "colab_type": "text"
      },
      "source": [
        "## 5. KERNEL SVM MODEL"
      ]
    },
    {
      "cell_type": "markdown",
      "metadata": {
        "id": "Sf5Z0-6CQFq2",
        "colab_type": "text"
      },
      "source": [
        "5.1 TRAINING KERNEL SVM MODEL ON TRAINING SET"
      ]
    },
    {
      "cell_type": "code",
      "metadata": {
        "id": "FEYR3r1mQLrP",
        "colab_type": "code",
        "colab": {
          "base_uri": "https://localhost:8080/",
          "height": 87
        },
        "outputId": "b7afaace-89c6-4039-e271-47f83562cc31"
      },
      "source": [
        "from sklearn.svm import SVC\n",
        "classifier_4 = SVC (kernel = 'rbf', random_state = 0)\n",
        "classifier_4.fit (X_train, Y_train)"
      ],
      "execution_count": 406,
      "outputs": [
        {
          "output_type": "execute_result",
          "data": {
            "text/plain": [
              "SVC(C=1.0, break_ties=False, cache_size=200, class_weight=None, coef0=0.0,\n",
              "    decision_function_shape='ovr', degree=3, gamma='scale', kernel='rbf',\n",
              "    max_iter=-1, probability=False, random_state=0, shrinking=True, tol=0.001,\n",
              "    verbose=False)"
            ]
          },
          "metadata": {
            "tags": []
          },
          "execution_count": 406
        }
      ]
    },
    {
      "cell_type": "markdown",
      "metadata": {
        "id": "QiZrmwvWQX-m",
        "colab_type": "text"
      },
      "source": [
        "5.2 PREDICTING THE NEW RESULT"
      ]
    },
    {
      "cell_type": "code",
      "metadata": {
        "id": "rft1vdSVQcgB",
        "colab_type": "code",
        "colab": {
          "base_uri": "https://localhost:8080/",
          "height": 35
        },
        "outputId": "f93196c1-cc11-407e-fd11-c7933f7e5d2b"
      },
      "source": [
        "print (classifier_3.predict (sc_X.transform ([[140.5625,55.68378214,-0.234571412,-0.699648398,3.199832776,19.11042633,7.975531794,74.24222492,]])))"
      ],
      "execution_count": 407,
      "outputs": [
        {
          "output_type": "stream",
          "text": [
            "[0]\n"
          ],
          "name": "stdout"
        }
      ]
    },
    {
      "cell_type": "markdown",
      "metadata": {
        "id": "DfqSbMfnQbqC",
        "colab_type": "text"
      },
      "source": [
        "5.3 PREDICTING TEST SET RESULTS"
      ]
    },
    {
      "cell_type": "code",
      "metadata": {
        "id": "N03rnnmpQ-d6",
        "colab_type": "code",
        "colab": {
          "base_uri": "https://localhost:8080/",
          "height": 140
        },
        "outputId": "e5b6f2c0-91bc-42e8-8e34-0346e8a44f1e"
      },
      "source": [
        "Y_pred_4 = classifier_4.predict (X_test)\n",
        "print (np.concatenate ((Y_pred_4.reshape (len (Y_pred_4),1), Y_test.reshape (len (Y_test),1)),1))"
      ],
      "execution_count": 408,
      "outputs": [
        {
          "output_type": "stream",
          "text": [
            "[[0 0]\n",
            " [0 0]\n",
            " [0 0]\n",
            " ...\n",
            " [0 0]\n",
            " [0 0]\n",
            " [0 0]]\n"
          ],
          "name": "stdout"
        }
      ]
    },
    {
      "cell_type": "markdown",
      "metadata": {
        "id": "7MFl8opDUNVP",
        "colab_type": "text"
      },
      "source": [
        "5.4 MODEL ACCURACY"
      ]
    },
    {
      "cell_type": "code",
      "metadata": {
        "id": "u0Y3mRhFUPj9",
        "colab_type": "code",
        "colab": {
          "base_uri": "https://localhost:8080/",
          "height": 70
        },
        "outputId": "4be8264f-7cd2-4615-8535-74bdbf2056ef"
      },
      "source": [
        "from sklearn.metrics import confusion_matrix, accuracy_score\n",
        "cm_4 = confusion_matrix (Y_test, Y_pred_4)\n",
        "print (cm_4)\n",
        "acc_4 = accuracy_score (Y_test, Y_pred_4)\n",
        "print ('MODEL ACCURACY is - ' + str (acc_4*100) + '%')"
      ],
      "execution_count": 409,
      "outputs": [
        {
          "output_type": "stream",
          "text": [
            "[[4093   22]\n",
            " [  63  297]]\n",
            "MODEL ACCURACY is - 98.10055865921787%\n"
          ],
          "name": "stdout"
        }
      ]
    },
    {
      "cell_type": "markdown",
      "metadata": {
        "id": "ezvIXCbsBKwq",
        "colab_type": "text"
      },
      "source": [
        "## 6. NAIVE BAYES MODEL"
      ]
    },
    {
      "cell_type": "markdown",
      "metadata": {
        "id": "HQAmYDvdBPws",
        "colab_type": "text"
      },
      "source": [
        "6.1 TRAINING NAIVE BAYES MODEL ON TRAINING SET"
      ]
    },
    {
      "cell_type": "code",
      "metadata": {
        "id": "fNlbQYe2BN0o",
        "colab_type": "code",
        "colab": {}
      },
      "source": [
        ""
      ],
      "execution_count": 409,
      "outputs": []
    },
    {
      "cell_type": "markdown",
      "metadata": {
        "id": "vYdvIbCmBOKH",
        "colab_type": "text"
      },
      "source": [
        "6.2 PREDICTING THE NEW RESULT"
      ]
    },
    {
      "cell_type": "code",
      "metadata": {
        "id": "ozk4_-41BXeO",
        "colab_type": "code",
        "colab": {}
      },
      "source": [
        ""
      ],
      "execution_count": 409,
      "outputs": []
    },
    {
      "cell_type": "markdown",
      "metadata": {
        "id": "nO2z1f2uBXqr",
        "colab_type": "text"
      },
      "source": [
        "6.3 PREDICTING THE TEST SET RESULTS"
      ]
    },
    {
      "cell_type": "code",
      "metadata": {
        "id": "0id1qEUNBbMx",
        "colab_type": "code",
        "colab": {}
      },
      "source": [
        ""
      ],
      "execution_count": 409,
      "outputs": []
    },
    {
      "cell_type": "markdown",
      "metadata": {
        "id": "bxYEV5T1BbWZ",
        "colab_type": "text"
      },
      "source": [
        "6.4 MODEL ACCURACY"
      ]
    },
    {
      "cell_type": "code",
      "metadata": {
        "id": "3KZ9LZhxBeQG",
        "colab_type": "code",
        "colab": {}
      },
      "source": [
        ""
      ],
      "execution_count": 409,
      "outputs": []
    },
    {
      "cell_type": "markdown",
      "metadata": {
        "id": "nHPC7qDoXw86",
        "colab_type": "text"
      },
      "source": [
        "## 7. DECISION TREE MODEL"
      ]
    },
    {
      "cell_type": "markdown",
      "metadata": {
        "id": "cVB6xRPxX1AQ",
        "colab_type": "text"
      },
      "source": [
        "7.1 TRAINING THE DECISION TREE MODEL ON THE TRAINING TEST"
      ]
    },
    {
      "cell_type": "code",
      "metadata": {
        "id": "jLnceAo5X6No",
        "colab_type": "code",
        "colab": {
          "base_uri": "https://localhost:8080/",
          "height": 123
        },
        "outputId": "cc0cbf84-49f1-4189-f822-ba701f7648b3"
      },
      "source": [
        "from sklearn.tree import DecisionTreeClassifier\n",
        "classifier_6 = DecisionTreeClassifier (criterion = 'entropy', random_state = 0)\n",
        "classifier_6.fit (X_train, Y_train)"
      ],
      "execution_count": 410,
      "outputs": [
        {
          "output_type": "execute_result",
          "data": {
            "text/plain": [
              "DecisionTreeClassifier(ccp_alpha=0.0, class_weight=None, criterion='entropy',\n",
              "                       max_depth=None, max_features=None, max_leaf_nodes=None,\n",
              "                       min_impurity_decrease=0.0, min_impurity_split=None,\n",
              "                       min_samples_leaf=1, min_samples_split=2,\n",
              "                       min_weight_fraction_leaf=0.0, presort='deprecated',\n",
              "                       random_state=0, splitter='best')"
            ]
          },
          "metadata": {
            "tags": []
          },
          "execution_count": 410
        }
      ]
    },
    {
      "cell_type": "markdown",
      "metadata": {
        "id": "nnLS8riiYiJH",
        "colab_type": "text"
      },
      "source": [
        "7.2 PREDICTING THE NEW RESULT"
      ]
    },
    {
      "cell_type": "code",
      "metadata": {
        "id": "kDKlH0QiYmHu",
        "colab_type": "code",
        "colab": {
          "base_uri": "https://localhost:8080/",
          "height": 35
        },
        "outputId": "9c86b835-255c-41d4-c4be-c75a6ffe6fde"
      },
      "source": [
        "print (classifier_6.predict (sc_X.transform ([[140.5625,55.68378214,-0.234571412,-0.699648398,3.199832776,19.11042633,7.975531794,74.24222492,]])))"
      ],
      "execution_count": 411,
      "outputs": [
        {
          "output_type": "stream",
          "text": [
            "[0]\n"
          ],
          "name": "stdout"
        }
      ]
    },
    {
      "cell_type": "markdown",
      "metadata": {
        "id": "1Cbxn9IjYqxd",
        "colab_type": "text"
      },
      "source": [
        "7.3 PREDICTING TEST SET RESULTS"
      ]
    },
    {
      "cell_type": "code",
      "metadata": {
        "id": "june_ZT-ZJIS",
        "colab_type": "code",
        "colab": {
          "base_uri": "https://localhost:8080/",
          "height": 140
        },
        "outputId": "157be94b-705c-4ecd-9810-8d09eb26d4a0"
      },
      "source": [
        "Y_pred_6 = classifier_6.predict (X_test)\n",
        "print (np.concatenate ((Y_pred_6.reshape (len (Y_pred_6),1), Y_test.reshape (len (Y_test),1)),1))"
      ],
      "execution_count": 412,
      "outputs": [
        {
          "output_type": "stream",
          "text": [
            "[[0 0]\n",
            " [0 0]\n",
            " [0 0]\n",
            " ...\n",
            " [0 0]\n",
            " [0 0]\n",
            " [0 0]]\n"
          ],
          "name": "stdout"
        }
      ]
    },
    {
      "cell_type": "markdown",
      "metadata": {
        "id": "0WXQEVfFZoji",
        "colab_type": "text"
      },
      "source": [
        "7.4 MODEL ACCURACY"
      ]
    },
    {
      "cell_type": "code",
      "metadata": {
        "id": "5sXbhPtNZrEP",
        "colab_type": "code",
        "colab": {
          "base_uri": "https://localhost:8080/",
          "height": 70
        },
        "outputId": "e0a020c5-0ebc-4fb1-a657-8e3e15b5bed5"
      },
      "source": [
        "from sklearn.metrics import confusion_matrix, accuracy_score\n",
        "cm_6 = confusion_matrix (Y_test, Y_pred_6)\n",
        "print (cm_6)\n",
        "acc_6 = accuracy_score (Y_test, Y_pred_6)\n",
        "print ('MODEL ACCURACY is - ' + str (acc_6*100) + '%')"
      ],
      "execution_count": 413,
      "outputs": [
        {
          "output_type": "stream",
          "text": [
            "[[4028   87]\n",
            " [  61  299]]\n",
            "MODEL ACCURACY is - 96.6927374301676%\n"
          ],
          "name": "stdout"
        }
      ]
    },
    {
      "cell_type": "markdown",
      "metadata": {
        "id": "_Mtun5zYbRzw",
        "colab_type": "text"
      },
      "source": [
        "## 8. RANDOM FOREST MODEL"
      ]
    },
    {
      "cell_type": "markdown",
      "metadata": {
        "id": "GRjRd0_UbVHg",
        "colab_type": "text"
      },
      "source": [
        "8.1 TRAINING THE RANDOM FOREST MODEL ON TRAINING SET"
      ]
    },
    {
      "cell_type": "code",
      "metadata": {
        "id": "Jp97pCndblZG",
        "colab_type": "code",
        "colab": {
          "base_uri": "https://localhost:8080/",
          "height": 158
        },
        "outputId": "6728ad95-8278-4a60-ee28-74a1d03b7217"
      },
      "source": [
        "from sklearn.ensemble import RandomForestClassifier\n",
        "classifier_7 = RandomForestClassifier (n_estimators = 10, criterion = 'entropy', random_state = 0)\n",
        "classifier_7.fit (X_train, Y_train)"
      ],
      "execution_count": 414,
      "outputs": [
        {
          "output_type": "execute_result",
          "data": {
            "text/plain": [
              "RandomForestClassifier(bootstrap=True, ccp_alpha=0.0, class_weight=None,\n",
              "                       criterion='entropy', max_depth=None, max_features='auto',\n",
              "                       max_leaf_nodes=None, max_samples=None,\n",
              "                       min_impurity_decrease=0.0, min_impurity_split=None,\n",
              "                       min_samples_leaf=1, min_samples_split=2,\n",
              "                       min_weight_fraction_leaf=0.0, n_estimators=10,\n",
              "                       n_jobs=None, oob_score=False, random_state=0, verbose=0,\n",
              "                       warm_start=False)"
            ]
          },
          "metadata": {
            "tags": []
          },
          "execution_count": 414
        }
      ]
    },
    {
      "cell_type": "markdown",
      "metadata": {
        "id": "RBUV7t4sbmAL",
        "colab_type": "text"
      },
      "source": [
        "8.2 PREDICTING THE NEW RESULT"
      ]
    },
    {
      "cell_type": "code",
      "metadata": {
        "id": "V1pIb7O8bomQ",
        "colab_type": "code",
        "colab": {
          "base_uri": "https://localhost:8080/",
          "height": 35
        },
        "outputId": "a0f4c9de-3d07-4c60-863c-e72ecfcb154e"
      },
      "source": [
        "print (classifier_6.predict (sc_X.transform ([[140.5625,55.68378214,-0.234571412,-0.699648398,3.199832776,19.11042633,7.975531794,74.24222492,]])))"
      ],
      "execution_count": 415,
      "outputs": [
        {
          "output_type": "stream",
          "text": [
            "[0]\n"
          ],
          "name": "stdout"
        }
      ]
    },
    {
      "cell_type": "markdown",
      "metadata": {
        "id": "WGnRTJsdboue",
        "colab_type": "text"
      },
      "source": [
        "8.3 PREDICTING TEST SET RESULTS"
      ]
    },
    {
      "cell_type": "code",
      "metadata": {
        "id": "p_Lu4tm8bsBa",
        "colab_type": "code",
        "colab": {
          "base_uri": "https://localhost:8080/",
          "height": 140
        },
        "outputId": "8810d763-0cd4-46bf-f94a-b68079b0a3b8"
      },
      "source": [
        "Y_pred_7 = classifier_7.predict (X_test)\n",
        "print (np.concatenate ((Y_pred_7.reshape (len (Y_pred_7),1), Y_test.reshape (len (Y_test),1)),1))"
      ],
      "execution_count": 416,
      "outputs": [
        {
          "output_type": "stream",
          "text": [
            "[[0 0]\n",
            " [0 0]\n",
            " [0 0]\n",
            " ...\n",
            " [0 0]\n",
            " [0 0]\n",
            " [0 0]]\n"
          ],
          "name": "stdout"
        }
      ]
    },
    {
      "cell_type": "markdown",
      "metadata": {
        "id": "TiHdFaZbbsKl",
        "colab_type": "text"
      },
      "source": [
        "8.4 MODEL ACCURACY"
      ]
    },
    {
      "cell_type": "code",
      "metadata": {
        "id": "LHFSM5pNbuID",
        "colab_type": "code",
        "colab": {
          "base_uri": "https://localhost:8080/",
          "height": 70
        },
        "outputId": "e1b7ed2a-d2e2-4394-d2c1-9ed2b015263b"
      },
      "source": [
        "from sklearn.metrics import confusion_matrix, accuracy_score\n",
        "cm_7 = confusion_matrix (Y_test, Y_pred_7)\n",
        "print (cm_7)\n",
        "acc_7 = accuracy_score (Y_test, Y_pred_7)\n",
        "print ('MODEL ACCURACY is - ' + str (acc_7*100) + '%')"
      ],
      "execution_count": 417,
      "outputs": [
        {
          "output_type": "stream",
          "text": [
            "[[4092   23]\n",
            " [  56  304]]\n",
            "MODEL ACCURACY is - 98.23463687150839%\n"
          ],
          "name": "stdout"
        }
      ]
    }
  ]
}