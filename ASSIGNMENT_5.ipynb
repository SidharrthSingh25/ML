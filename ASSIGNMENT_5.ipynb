{
  "nbformat": 4,
  "nbformat_minor": 0,
  "metadata": {
    "colab": {
      "name": "ASSIGNMENT 5.ipynb",
      "provenance": [],
      "authorship_tag": "ABX9TyO375e8ycr3525LZJHZeol6",
      "include_colab_link": true
    },
    "kernelspec": {
      "name": "python3",
      "display_name": "Python 3"
    }
  },
  "cells": [
    {
      "cell_type": "markdown",
      "metadata": {
        "id": "view-in-github",
        "colab_type": "text"
      },
      "source": [
        "<a href=\"https://colab.research.google.com/github/SidharrthSingh25/ML/blob/master/ASSIGNMENT_5.ipynb\" target=\"_parent\"><img src=\"https://colab.research.google.com/assets/colab-badge.svg\" alt=\"Open In Colab\"/></a>"
      ]
    },
    {
      "cell_type": "markdown",
      "metadata": {
        "id": "mBnCw_KCtOqY",
        "colab_type": "text"
      },
      "source": [
        "## 1. DATA PREPROCESSING\n"
      ]
    },
    {
      "cell_type": "markdown",
      "metadata": {
        "id": "CupA_m8xu1nt",
        "colab_type": "text"
      },
      "source": [
        "1.1 IMPORTING LIBRARIES"
      ]
    },
    {
      "cell_type": "code",
      "metadata": {
        "id": "7FgbER7Sk-EQ",
        "colab_type": "code",
        "colab": {}
      },
      "source": [
        "import numpy as np\n",
        "import matplotlib.pyplot as plt\n",
        "import pandas as pd"
      ],
      "execution_count": 22,
      "outputs": []
    },
    {
      "cell_type": "markdown",
      "metadata": {
        "id": "pHsCCs6yvEq4",
        "colab_type": "text"
      },
      "source": [
        "1.2 IMPORTING DATASETS"
      ]
    },
    {
      "cell_type": "code",
      "metadata": {
        "id": "G9t9OLMFtZfn",
        "colab_type": "code",
        "colab": {}
      },
      "source": [
        "X_train = pd.read_csv ('Diabetes_XTrain.csv')\n",
        "X_test = pd.read_csv ('Diabetes_Xtest.csv')\n",
        "Y_train = pd.read_csv ('Diabetes_YTrain.csv')"
      ],
      "execution_count": 23,
      "outputs": []
    },
    {
      "cell_type": "code",
      "metadata": {
        "id": "eWwXAKCOuez4",
        "colab_type": "code",
        "colab": {
          "base_uri": "https://localhost:8080/",
          "height": 263
        },
        "outputId": "70772c6d-da33-4a0d-d267-733f4d5c9e7f"
      },
      "source": [
        "print (X_train)"
      ],
      "execution_count": 24,
      "outputs": [
        {
          "output_type": "stream",
          "text": [
            "     Pregnancies  Glucose  BloodPressure  ...   BMI  DiabetesPedigreeFunction  Age\n",
            "0              7      168             88  ...  38.2                     0.787   40\n",
            "1              8      110             76  ...  27.8                     0.237   58\n",
            "2              7      147             76  ...  39.4                     0.257   43\n",
            "3              2      100             66  ...  32.9                     0.867   28\n",
            "4              4      129             86  ...  35.1                     0.231   23\n",
            "..           ...      ...            ...  ...   ...                       ...  ...\n",
            "571            2      111             60  ...  26.2                     0.343   23\n",
            "572            7      187             68  ...  37.7                     0.254   41\n",
            "573            2      122             60  ...  29.8                     0.717   22\n",
            "574            4      154             72  ...  31.3                     0.338   37\n",
            "575            1       88             78  ...  32.0                     0.365   29\n",
            "\n",
            "[576 rows x 8 columns]\n"
          ],
          "name": "stdout"
        }
      ]
    },
    {
      "cell_type": "code",
      "metadata": {
        "id": "KxbKGCAQue3Y",
        "colab_type": "code",
        "colab": {
          "base_uri": "https://localhost:8080/",
          "height": 263
        },
        "outputId": "4c272425-beaf-4a7f-f48f-eceee4543189"
      },
      "source": [
        "print (X_test)"
      ],
      "execution_count": 25,
      "outputs": [
        {
          "output_type": "stream",
          "text": [
            "     Pregnancies  Glucose  BloodPressure  ...   BMI  DiabetesPedigreeFunction  Age\n",
            "0              0      180             90  ...  36.5                     0.314   35\n",
            "1              2       93             64  ...  38.0                     0.674   23\n",
            "2              2      114             68  ...  28.7                     0.092   25\n",
            "3             13       76             60  ...  32.8                     0.180   41\n",
            "4              1       80             74  ...  30.0                     0.527   22\n",
            "..           ...      ...            ...  ...   ...                       ...  ...\n",
            "187           10      108             66  ...  32.4                     0.272   42\n",
            "188            3      130             64  ...  23.1                     0.314   22\n",
            "189            0      162             76  ...  49.6                     0.364   26\n",
            "190           12       84             72  ...  29.7                     0.297   46\n",
            "191            0       94              0  ...   0.0                     0.256   25\n",
            "\n",
            "[192 rows x 8 columns]\n"
          ],
          "name": "stdout"
        }
      ]
    },
    {
      "cell_type": "code",
      "metadata": {
        "id": "c29hwS4fue6d",
        "colab_type": "code",
        "colab": {
          "base_uri": "https://localhost:8080/",
          "height": 263
        },
        "outputId": "3cea9887-0b6b-4cea-93e3-c7a5f836d120"
      },
      "source": [
        "print (Y_train)"
      ],
      "execution_count": 26,
      "outputs": [
        {
          "output_type": "stream",
          "text": [
            "     Outcome\n",
            "0          1\n",
            "1          0\n",
            "2          1\n",
            "3          1\n",
            "4          0\n",
            "..       ...\n",
            "571        0\n",
            "572        1\n",
            "573        0\n",
            "574        0\n",
            "575        0\n",
            "\n",
            "[576 rows x 1 columns]\n"
          ],
          "name": "stdout"
        }
      ]
    },
    {
      "cell_type": "markdown",
      "metadata": {
        "id": "UdS2X5Z_vKiY",
        "colab_type": "text"
      },
      "source": [
        "1.3 FEATURE SCALING"
      ]
    },
    {
      "cell_type": "code",
      "metadata": {
        "id": "WRUlNFcSuBb6",
        "colab_type": "code",
        "colab": {}
      },
      "source": [
        "from sklearn.preprocessing import StandardScaler\n",
        "sc_X = StandardScaler ()\n",
        "X_train = sc_X.fit_transform (X_train)\n",
        "X_test = sc_X.transform (X_test)"
      ],
      "execution_count": 27,
      "outputs": []
    },
    {
      "cell_type": "code",
      "metadata": {
        "id": "q--Xjg6HubKu",
        "colab_type": "code",
        "colab": {
          "base_uri": "https://localhost:8080/",
          "height": 246
        },
        "outputId": "2305fd5c-00e6-4722-d080-71545f0626aa"
      },
      "source": [
        "print (X_train)"
      ],
      "execution_count": 28,
      "outputs": [
        {
          "output_type": "stream",
          "text": [
            "[[ 0.97457151  1.52528095  0.94599501 ...  0.78036618  0.907501\n",
            "   0.59363371]\n",
            " [ 1.27524274 -0.31683408  0.35393439 ... -0.49918316 -0.72639999\n",
            "   2.11034006]\n",
            " [ 0.97457151  0.85830827  0.35393439 ...  0.92800649 -0.66698541\n",
            "   0.8464181 ]\n",
            " ...\n",
            " [-0.52878465  0.06429317 -0.43547977 ... -0.25311598  0.69954996\n",
            "  -0.92307263]\n",
            " [ 0.07255781  1.0806325   0.15658085 ... -0.06856559 -0.42635635\n",
            "   0.34084932]\n",
            " [-0.82945588 -1.01556737  0.45261116 ...  0.01755792 -0.34614667\n",
            "  -0.33324239]]\n"
          ],
          "name": "stdout"
        }
      ]
    },
    {
      "cell_type": "code",
      "metadata": {
        "id": "iC0zkajxubNw",
        "colab_type": "code",
        "colab": {
          "base_uri": "https://localhost:8080/",
          "height": 246
        },
        "outputId": "15f30712-c251-49c8-94ab-1f2818c2bf32"
      },
      "source": [
        "print (X_test)"
      ],
      "execution_count": 29,
      "outputs": [
        {
          "output_type": "stream",
          "text": [
            "[[-1.13012711  1.9064082   1.04467178 ...  0.57120908 -0.49765385\n",
            "   0.1723264 ]\n",
            " [-0.52878465 -0.85676435 -0.23812623 ...  0.75575946  0.57180861\n",
            "  -0.83881117]\n",
            " [-0.52878465 -0.18979167 -0.04077269 ... -0.38845293 -1.15715571\n",
            "  -0.67028824]\n",
            " ...\n",
            " [-1.13012711  1.33471733  0.35393439 ...  2.18294912 -0.3491174\n",
            "  -0.58602678]\n",
            " [ 2.47792767 -1.14260979  0.15658085 ... -0.26541934 -0.54815625\n",
            "   1.09920249]\n",
            " [-1.13012711 -0.82500375 -3.39578288 ... -3.91951699 -0.66995614\n",
            "  -0.67028824]]\n"
          ],
          "name": "stdout"
        }
      ]
    },
    {
      "cell_type": "markdown",
      "metadata": {
        "id": "KvIajiR4xKfk",
        "colab_type": "text"
      },
      "source": [
        "## 2. LOGISTIC REGRESSION MODEL"
      ]
    },
    {
      "cell_type": "markdown",
      "metadata": {
        "id": "_eF24NzXxVaH",
        "colab_type": "text"
      },
      "source": [
        "2.1 TRAINING LOGISTIC REGRESSION MODEL ON TRAINING SET"
      ]
    },
    {
      "cell_type": "code",
      "metadata": {
        "id": "Z14AIPJ7xOFF",
        "colab_type": "code",
        "colab": {
          "base_uri": "https://localhost:8080/",
          "height": 160
        },
        "outputId": "fdabb7c8-4bdd-4ca3-ca72-1ee58b49a761"
      },
      "source": [
        "from sklearn.linear_model import LogisticRegression\n",
        "classifier_1 = LogisticRegression ()\n",
        "classifier_1.fit (X_train, Y_train)"
      ],
      "execution_count": 30,
      "outputs": [
        {
          "output_type": "stream",
          "text": [
            "/usr/local/lib/python3.6/dist-packages/sklearn/utils/validation.py:760: DataConversionWarning: A column-vector y was passed when a 1d array was expected. Please change the shape of y to (n_samples, ), for example using ravel().\n",
            "  y = column_or_1d(y, warn=True)\n"
          ],
          "name": "stderr"
        },
        {
          "output_type": "execute_result",
          "data": {
            "text/plain": [
              "LogisticRegression(C=1.0, class_weight=None, dual=False, fit_intercept=True,\n",
              "                   intercept_scaling=1, l1_ratio=None, max_iter=100,\n",
              "                   multi_class='auto', n_jobs=None, penalty='l2',\n",
              "                   random_state=None, solver='lbfgs', tol=0.0001, verbose=0,\n",
              "                   warm_start=False)"
            ]
          },
          "metadata": {
            "tags": []
          },
          "execution_count": 30
        }
      ]
    },
    {
      "cell_type": "markdown",
      "metadata": {
        "id": "EPfgCun3xrTU",
        "colab_type": "text"
      },
      "source": [
        "2.2 PREDICTING A NEW RESULT"
      ]
    },
    {
      "cell_type": "code",
      "metadata": {
        "id": "Ugt9_Q-NxwPd",
        "colab_type": "code",
        "colab": {
          "base_uri": "https://localhost:8080/",
          "height": 35
        },
        "outputId": "c266975e-d791-43b3-aaf8-b022ad8532ff"
      },
      "source": [
        "print (classifier_1.predict (sc_X.transform ([[0,180,90,26,90,36.5,0.314,35]])))"
      ],
      "execution_count": 31,
      "outputs": [
        {
          "output_type": "stream",
          "text": [
            "[1]\n"
          ],
          "name": "stdout"
        }
      ]
    },
    {
      "cell_type": "markdown",
      "metadata": {
        "id": "gzaPQM9n1d5d",
        "colab_type": "text"
      },
      "source": [
        "2.3 PREDICTING TEST SET RESULTS"
      ]
    },
    {
      "cell_type": "code",
      "metadata": {
        "id": "k6vahXlx1jTL",
        "colab_type": "code",
        "colab": {}
      },
      "source": [
        "Y_pred_1 = classifier_1.predict (X_test)"
      ],
      "execution_count": 32,
      "outputs": []
    },
    {
      "cell_type": "code",
      "metadata": {
        "id": "i0bMmySa2Gzw",
        "colab_type": "code",
        "colab": {
          "base_uri": "https://localhost:8080/",
          "height": 123
        },
        "outputId": "58c7e305-8418-4958-9c85-c89a7fa79930"
      },
      "source": [
        "print (Y_pred_1)"
      ],
      "execution_count": 41,
      "outputs": [
        {
          "output_type": "stream",
          "text": [
            "[1 0 0 0 0 1 1 0 0 0 1 0 1 0 1 0 0 1 1 1 0 0 0 0 0 0 0 0 0 0 0 0 0 0 0 1 1\n",
            " 1 1 0 1 0 0 0 1 0 0 1 0 1 1 1 0 0 1 0 1 0 0 0 0 0 0 0 1 0 0 0 0 0 0 0 0 0\n",
            " 0 0 0 0 0 0 0 0 0 0 0 0 1 1 0 0 1 1 1 0 1 0 0 0 0 0 1 0 0 0 0 0 0 1 0 0 1\n",
            " 0 1 0 0 1 0 1 0 0 0 0 0 1 0 1 1 0 1 0 0 1 0 0 0 0 1 0 1 0 0 1 1 0 1 0 0 1\n",
            " 0 0 0 0 1 0 0 1 0 1 0 1 1 0 0 0 0 0 0 0 0 0 0 1 0 0 0 0 0 0 0 1 0 0 1 1 1\n",
            " 0 0 0 0 1 0 0]\n"
          ],
          "name": "stdout"
        }
      ]
    },
    {
      "cell_type": "markdown",
      "metadata": {
        "id": "MKkzb3fS8H2o",
        "colab_type": "text"
      },
      "source": [
        "## 3. K-NN MODEL"
      ]
    },
    {
      "cell_type": "markdown",
      "metadata": {
        "id": "J1ojQLzG-UMb",
        "colab_type": "text"
      },
      "source": [
        "3.1 TRAINING THE K-NN MODEL ON THE TRAINING SET"
      ]
    },
    {
      "cell_type": "code",
      "metadata": {
        "id": "zgxIevxlAsRy",
        "colab_type": "code",
        "colab": {
          "base_uri": "https://localhost:8080/",
          "height": 125
        },
        "outputId": "7ea6d8dc-5dda-4e1c-af68-01fef22f8cd4"
      },
      "source": [
        "from sklearn.neighbors import KNeighborsClassifier\n",
        "classifier_2 = KNeighborsClassifier ()\n",
        "classifier_2.fit (X_train, Y_train)"
      ],
      "execution_count": 34,
      "outputs": [
        {
          "output_type": "stream",
          "text": [
            "/usr/local/lib/python3.6/dist-packages/ipykernel_launcher.py:3: DataConversionWarning: A column-vector y was passed when a 1d array was expected. Please change the shape of y to (n_samples, ), for example using ravel().\n",
            "  This is separate from the ipykernel package so we can avoid doing imports until\n"
          ],
          "name": "stderr"
        },
        {
          "output_type": "execute_result",
          "data": {
            "text/plain": [
              "KNeighborsClassifier(algorithm='auto', leaf_size=30, metric='minkowski',\n",
              "                     metric_params=None, n_jobs=None, n_neighbors=5, p=2,\n",
              "                     weights='uniform')"
            ]
          },
          "metadata": {
            "tags": []
          },
          "execution_count": 34
        }
      ]
    },
    {
      "cell_type": "markdown",
      "metadata": {
        "id": "g7M-02VlBGS-",
        "colab_type": "text"
      },
      "source": [
        "3.2 PREDICTING THE NEW RESULT"
      ]
    },
    {
      "cell_type": "code",
      "metadata": {
        "id": "KXKHVas1BGiq",
        "colab_type": "code",
        "colab": {
          "base_uri": "https://localhost:8080/",
          "height": 35
        },
        "outputId": "aa9e0ce6-603a-404e-9b64-50cf0d214208"
      },
      "source": [
        "print (classifier_2.predict (sc_X.transform ([[0,180,90,26,90,36.5,0.314,35]])))"
      ],
      "execution_count": 35,
      "outputs": [
        {
          "output_type": "stream",
          "text": [
            "[1]\n"
          ],
          "name": "stdout"
        }
      ]
    },
    {
      "cell_type": "markdown",
      "metadata": {
        "id": "TRaP84FDKG9C",
        "colab_type": "text"
      },
      "source": [
        "3.3 PREDICTING TEST SET RESULTS"
      ]
    },
    {
      "cell_type": "code",
      "metadata": {
        "id": "2_5v1tgJKKo_",
        "colab_type": "code",
        "colab": {}
      },
      "source": [
        "Y_pred_2 = classifier_2.predict (X_test)"
      ],
      "execution_count": 36,
      "outputs": []
    },
    {
      "cell_type": "code",
      "metadata": {
        "id": "IKmqkpaKKPbS",
        "colab_type": "code",
        "colab": {
          "base_uri": "https://localhost:8080/",
          "height": 123
        },
        "outputId": "8a896bba-f113-4842-f719-1a8aafbbdbf5"
      },
      "source": [
        "print (Y_pred_2)"
      ],
      "execution_count": 39,
      "outputs": [
        {
          "output_type": "stream",
          "text": [
            "[1 0 0 0 0 1 1 0 0 0 1 0 1 0 1 0 0 1 1 0 0 0 0 0 0 0 0 1 0 0 1 1 0 0 0 0 0\n",
            " 0 0 0 1 0 0 0 1 0 0 1 0 1 0 1 1 0 1 0 1 0 0 1 1 0 0 0 1 0 0 0 0 0 0 0 0 0\n",
            " 0 0 0 0 0 0 0 1 0 0 0 0 1 1 0 0 1 1 0 0 1 0 0 1 0 0 1 0 0 1 0 0 1 1 0 0 1\n",
            " 0 1 0 0 1 0 1 0 0 0 0 1 0 0 0 1 1 1 0 1 1 0 0 0 0 0 1 1 0 0 0 1 1 0 0 0 1\n",
            " 0 1 0 0 1 1 0 1 0 1 0 1 0 0 0 0 0 0 0 0 0 0 0 1 0 1 0 0 0 0 1 1 0 0 1 0 1\n",
            " 0 0 0 0 1 0 0]\n"
          ],
          "name": "stdout"
        }
      ]
    },
    {
      "cell_type": "markdown",
      "metadata": {
        "id": "QnCuLtCY2_94",
        "colab_type": "text"
      },
      "source": [
        "## 4. VISUALISING TEST RESULTS"
      ]
    },
    {
      "cell_type": "code",
      "metadata": {
        "id": "vZcnL6ArhHDz",
        "colab_type": "code",
        "colab": {}
      },
      "source": [
        "X_test = sc_X.inverse_transform (X_test)"
      ],
      "execution_count": 51,
      "outputs": []
    },
    {
      "cell_type": "code",
      "metadata": {
        "id": "16UP8Wh26hwu",
        "colab_type": "code",
        "colab": {
          "base_uri": "https://localhost:8080/",
          "height": 1000
        },
        "outputId": "7745a5b0-96a0-45a7-862f-aac94885b65b"
      },
      "source": [
        "for i in range (7):\n",
        "  plt.figure ()\n",
        "  plt.scatter (X_test [ : ,i], Y_pred_1, color = 'blue', label = 'Logistic_Regression')\n",
        "  plt.scatter (X_test [ : ,i], Y_pred_2, color = 'red', label = 'K-NN')\n",
        "  plt.title ('TARGET vs FEATURE ' + str (i+1))\n",
        "  plt.xlabel ('FEATURE ' + str (i+1))\n",
        "  plt.ylabel ('TARGET')\n",
        "  plt.legend ()\n",
        "  plt.show ()"
      ],
      "execution_count": 74,
      "outputs": [
        {
          "output_type": "display_data",
          "data": {
            "image/png": "[encoded data removed]",
            "text/plain": [
              "<Figure size 432x288 with 1 Axes>"
            ]
          },
          "metadata": {
            "tags": [],
            "needs_background": "light"
          }
        },
        {
          "output_type": "display_data",
          "data": {
            "image/png": "[encoded data removed]",
            "text/plain": [
              "<Figure size 432x288 with 1 Axes>"
            ]
          },
          "metadata": {
            "tags": [],
            "needs_background": "light"
          }
        },
        {
          "output_type": "display_data",
          "data": {
            "image/png": "[encoded data removed]",
            "text/plain": [
              "<Figure size 432x288 with 1 Axes>"
            ]
          },
          "metadata": {
            "tags": [],
            "needs_background": "light"
          }
        },
        {
          "output_type": "display_data",
          "data": {
            "image/png": "[encoded data removed]",
            "text/plain": [
              "<Figure size 432x288 with 1 Axes>"
            ]
          },
          "metadata": {
            "tags": [],
            "needs_background": "light"
          }
        },
        {
          "output_type": "display_data",
          "data": {
            "image/png": "[encoded data removed]",
            "text/plain": [
              "<Figure size 432x288 with 1 Axes>"
            ]
          },
          "metadata": {
            "tags": [],
            "needs_background": "light"
          }
        },
        {
          "output_type": "display_data",
          "data": {
            "image/png": "[encoded data removed]",
            "text/plain": [
              "<Figure size 432x288 with 1 Axes>"
            ]
          },
          "metadata": {
            "tags": [],
            "needs_background": "light"
          }
        },
        {
          "output_type": "display_data",
          "data": {
            "image/png": "[encoded data removed]",
            "text/plain": [
              "<Figure size 432x288 with 1 Axes>"
            ]
          },
          "metadata": {
            "tags": [],
            "needs_background": "light"
          }
        }
      ]
    }
  ]
}