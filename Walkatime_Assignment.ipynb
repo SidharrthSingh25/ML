{
  "nbformat": 4,
  "nbformat_minor": 0,
  "metadata": {
    "colab": {
      "name": "Walkatime Assignment.ipynb",
      "provenance": [],
      "authorship_tag": "ABX9TyM1zOSdBR9Le7M0qNJbCwkc",
      "include_colab_link": true
    },
    "kernelspec": {
      "name": "python3",
      "display_name": "Python 3"
    }
  },
  "cells": [
    {
      "cell_type": "markdown",
      "metadata": {
        "id": "view-in-github",
        "colab_type": "text"
      },
      "source": [
        "<a href=\"https://colab.research.google.com/github/SidharrthSingh25/ML/blob/master/Walkatime_Assignment.ipynb\" target=\"_parent\"><img src=\"https://colab.research.google.com/assets/colab-badge.svg\" alt=\"Open In Colab\"/></a>"
      ]
    },
    {
      "cell_type": "code",
      "metadata": {
        "id": "dzaLe1uL5zBm",
        "colab_type": "code",
        "colab": {}
      },
      "source": [
        "import numpy as np\n",
        "import matplotlib.pyplot as plt\n",
        "import pandas as pd"
      ],
      "execution_count": 0,
      "outputs": []
    },
    {
      "cell_type": "code",
      "metadata": {
        "id": "NtES-QSn6UJ2",
        "colab_type": "code",
        "colab": {}
      },
      "source": [
        "X_train = pd.read_csv ('Linear_X_Train.csv')\n",
        "X_test = pd.read_csv ('Linear_X_Test.csv')\n",
        "Y_train = pd.read_csv ('Linear_Y_Train.csv')"
      ],
      "execution_count": 0,
      "outputs": []
    },
    {
      "cell_type": "code",
      "metadata": {
        "id": "mpHl2bfM7EQy",
        "colab_type": "code",
        "colab": {
          "base_uri": "https://localhost:8080/",
          "height": 35
        },
        "outputId": "0449967e-7faf-4876-cb30-ea03c2d21b9b"
      },
      "source": [
        "from sklearn.linear_model import LinearRegression\n",
        "regressor = LinearRegression ()\n",
        "regressor.fit (X_train, Y_train)"
      ],
      "execution_count": 7,
      "outputs": [
        {
          "output_type": "execute_result",
          "data": {
            "text/plain": [
              "LinearRegression(copy_X=True, fit_intercept=True, n_jobs=None, normalize=False)"
            ]
          },
          "metadata": {
            "tags": []
          },
          "execution_count": 7
        }
      ]
    },
    {
      "cell_type": "code",
      "metadata": {
        "id": "sqLAHk4N7bvM",
        "colab_type": "code",
        "colab": {
          "base_uri": "https://localhost:8080/",
          "height": 295
        },
        "outputId": "a2b2d8bb-b9b9-4f15-ab35-5bbbc66c061d"
      },
      "source": [
        "plt.scatter (X_test, regressor.predict (X_test), color = 'blue')\n",
        "plt.title ('Walkatime')\n",
        "plt.xlabel ('Time Spent On Coding')\n",
        "plt.ylabel ('Evaluation Score')\n",
        "plt.show ()"
      ],
      "execution_count": 9,
      "outputs": [
        {
          "output_type": "display_data",
          "data": {
            "image/png": "[encoded data removed]",
            "text/plain": [
              "<Figure size 432x288 with 1 Axes>"
            ]
          },
          "metadata": {
            "tags": [],
            "needs_background": "light"
          }
        }
      ]
    },
    {
      "cell_type": "code",
      "metadata": {
        "id": "6tPPYdmrnkFW",
        "colab_type": "code",
        "colab": {
          "base_uri": "https://localhost:8080/",
          "height": 52
        },
        "outputId": "2736b069-19cb-48af-f5fb-23cc5fceed74"
      },
      "source": [
        "eval = int (input ('Enter CODING TIME - '))\n",
        "print (regressor.predict ([[eval]]))"
      ],
      "execution_count": 10,
      "outputs": [
        {
          "output_type": "stream",
          "text": [
            "Enter CODING TIME - 8\n",
            "[[648.07704312]]\n"
          ],
          "name": "stdout"
        }
      ]
    }
  ]
}