{
  "nbformat": 4,
  "nbformat_minor": 0,
  "metadata": {
    "colab": {
      "name": "Random_Forest_Model.ipynb",
      "provenance": [],
      "toc_visible": true,
      "authorship_tag": "ABX9TyPAhkIWmPQn/ZVqYCBlK6Na",
      "include_colab_link": true
    },
    "kernelspec": {
      "name": "python3",
      "display_name": "Python 3"
    }
  },
  "cells": [
    {
      "cell_type": "markdown",
      "metadata": {
        "id": "view-in-github",
        "colab_type": "text"
      },
      "source": [
        "<a href=\"https://colab.research.google.com/github/SidharrthSingh25/ML/blob/master/ASSIGNMENT_6/Random_Forest_Model.ipynb\" target=\"_parent\"><img src=\"https://colab.research.google.com/assets/colab-badge.svg\" alt=\"Open In Colab\"/></a>"
      ]
    },
    {
      "cell_type": "markdown",
      "metadata": {
        "id": "i9kEbn4zAWXq",
        "colab_type": "text"
      },
      "source": [
        "## 1. DATA PREPROCESSING "
      ]
    },
    {
      "cell_type": "markdown",
      "metadata": {
        "id": "aZpZB1NhAWa1",
        "colab_type": "text"
      },
      "source": [
        "1.1 IMPORTING LIBRARIES"
      ]
    },
    {
      "cell_type": "code",
      "metadata": {
        "id": "Io0L_L03AbiA",
        "colab_type": "code",
        "colab": {}
      },
      "source": [
        "import numpy as np\n",
        "import matplotlib.pyplot as plt\n",
        "import pandas as pd"
      ],
      "execution_count": 1,
      "outputs": []
    },
    {
      "cell_type": "markdown",
      "metadata": {
        "id": "OpNyd91gAWd9",
        "colab_type": "text"
      },
      "source": [
        "1.2 IMPORTING DATASETS"
      ]
    },
    {
      "cell_type": "code",
      "metadata": {
        "id": "u44DiF78AmAS",
        "colab_type": "code",
        "colab": {}
      },
      "source": [
        "dataset = pd.read_csv ('pulsar_stars.csv')\n",
        "X = dataset.iloc [ : , :-1].values\n",
        "Y = dataset.iloc [ : ,-1].values"
      ],
      "execution_count": 2,
      "outputs": []
    },
    {
      "cell_type": "markdown",
      "metadata": {
        "id": "Vx0h7w67AWgy",
        "colab_type": "text"
      },
      "source": [
        "1.3 SPLITTING INTO TRAINING AND TEST SET"
      ]
    },
    {
      "cell_type": "code",
      "metadata": {
        "id": "3BWU0zI3A27x",
        "colab_type": "code",
        "colab": {}
      },
      "source": [
        "from sklearn.model_selection import train_test_split\n",
        "X_train, X_test, Y_train, Y_test = train_test_split (X, Y, test_size = 0.25, random_state = 0)"
      ],
      "execution_count": 3,
      "outputs": []
    },
    {
      "cell_type": "code",
      "metadata": {
        "id": "0tglpa7BA3B9",
        "colab_type": "code",
        "colab": {
          "base_uri": "https://localhost:8080/",
          "height": 246
        },
        "outputId": "3f2d71bf-9b64-4c59-b581-82e3ed8da7b3"
      },
      "source": [
        "print (X_train)"
      ],
      "execution_count": 4,
      "outputs": [
        {
          "output_type": "stream",
          "text": [
            "[[ 1.33898438e+02  4.69297746e+01  3.87951750e-02 ...  1.95615370e+01\n",
            "   8.57437793e+00  8.07954514e+01]\n",
            " [ 2.70390625e+01  3.37547224e+01  4.77912374e+00 ...  7.88154399e+01\n",
            "  -3.48492115e-01 -8.93790697e-01]\n",
            " [ 1.07718750e+02  5.20618529e+01  2.78869299e-01 ...  4.05191430e+01\n",
            "   3.34724977e+00  1.04413225e+01]\n",
            " ...\n",
            " [ 1.33164062e+02  5.54754700e+01 -9.44232330e-02 ...  1.26535027e+01\n",
            "   1.21759792e+01  1.81458434e+02]\n",
            " [ 9.81718750e+01  4.88055948e+01  3.11807442e-01 ...  1.62043130e+01\n",
            "   1.02032095e+01  1.22776632e+02]\n",
            " [ 1.06046875e+02  4.20750556e+01  4.21143692e-01 ...  1.99249204e+01\n",
            "   7.31348277e+00  5.87921276e+01]]\n"
          ],
          "name": "stdout"
        }
      ]
    },
    {
      "cell_type": "code",
      "metadata": {
        "id": "0FxI76m2A3HP",
        "colab_type": "code",
        "colab": {
          "base_uri": "https://localhost:8080/",
          "height": 35
        },
        "outputId": "da9375d0-4c16-4c4c-a4bf-f1b37eb3dde2"
      },
      "source": [
        "print (Y_train)"
      ],
      "execution_count": 5,
      "outputs": [
        {
          "output_type": "stream",
          "text": [
            "[0 1 0 ... 0 0 0]\n"
          ],
          "name": "stdout"
        }
      ]
    },
    {
      "cell_type": "code",
      "metadata": {
        "id": "srqw1D7yA3Mi",
        "colab_type": "code",
        "colab": {
          "base_uri": "https://localhost:8080/",
          "height": 246
        },
        "outputId": "17268738-7455-418a-fe8d-5ef715cb5b7f"
      },
      "source": [
        "print (X_test)"
      ],
      "execution_count": 6,
      "outputs": [
        {
          "output_type": "stream",
          "text": [
            "[[ 1.02289062e+02  4.57590757e+01  2.31697754e-01 ...  1.43430197e+01\n",
            "   9.50036830e+00  1.17057724e+02]\n",
            " [ 1.20093750e+02  5.17653114e+01  1.52884958e-01 ...  1.96742682e+01\n",
            "   7.96200404e+00  7.36250634e+01]\n",
            " [ 1.08820312e+02  5.80159506e+01  3.96478925e-01 ...  1.94694241e+01\n",
            "   9.30173415e+00  9.46556370e+01]\n",
            " ...\n",
            " [ 1.24601562e+02  4.96176537e+01 -7.67909800e-03 ...  1.54960315e+01\n",
            "   8.04710053e+00  8.64405361e+01]\n",
            " [ 1.02046875e+02  4.87905055e+01  4.52226380e-01 ...  1.39284014e+01\n",
            "   9.12749945e+00  1.16023222e+02]\n",
            " [ 1.16679688e+02  4.74069704e+01  6.94263630e-02 ...  8.26920169e+01\n",
            "  -1.92942742e-01 -1.87714766e+00]]\n"
          ],
          "name": "stdout"
        }
      ]
    },
    {
      "cell_type": "code",
      "metadata": {
        "id": "5ZkyyuQtA3SL",
        "colab_type": "code",
        "colab": {
          "base_uri": "https://localhost:8080/",
          "height": 35
        },
        "outputId": "c90713e8-6dae-4995-9645-6e41036a0931"
      },
      "source": [
        "print (Y_test)"
      ],
      "execution_count": 7,
      "outputs": [
        {
          "output_type": "stream",
          "text": [
            "[0 0 0 ... 0 0 0]\n"
          ],
          "name": "stdout"
        }
      ]
    },
    {
      "cell_type": "markdown",
      "metadata": {
        "id": "WQ4cRqokAWje",
        "colab_type": "text"
      },
      "source": [
        "1.4 FEATURE SCALING"
      ]
    },
    {
      "cell_type": "code",
      "metadata": {
        "id": "5QFOtwq0BPZz",
        "colab_type": "code",
        "colab": {}
      },
      "source": [
        "from sklearn.preprocessing import StandardScaler\n",
        "sc_X = StandardScaler ()\n",
        "X_train = sc_X.fit_transform (X_train)\n",
        "X_test = sc_X.transform (X_test)"
      ],
      "execution_count": 8,
      "outputs": []
    },
    {
      "cell_type": "code",
      "metadata": {
        "id": "acpDETqYBPcz",
        "colab_type": "code",
        "colab": {
          "base_uri": "https://localhost:8080/",
          "height": 246
        },
        "outputId": "50be5d23-032b-4149-b3bb-1e191635ee12"
      },
      "source": [
        "print (X_train)"
      ],
      "execution_count": 9,
      "outputs": [
        {
          "output_type": "stream",
          "text": [
            "[[ 0.89035     0.05299446 -0.41627838 ... -0.35147554  0.06520135\n",
            "  -0.22396846]\n",
            " [-3.24056646 -1.87170607  3.9915008  ...  2.67629293 -1.9123934\n",
            "  -0.99480636]\n",
            " [-0.12169131  0.80272308 -0.19304623 ...  0.71942064 -1.09329823\n",
            "  -0.88784571]\n",
            " ...\n",
            " [ 0.8619609   1.30140731 -0.54015109 ... -0.70446375  0.86343194\n",
            "   0.7259099 ]\n",
            " [-0.49074965  0.32702693 -0.16241881 ... -0.52302369  0.42620276\n",
            "   0.17217532]\n",
            " [-0.18632182 -0.65621566 -0.06075285 ... -0.33290731 -0.21425354\n",
            "  -0.43159673]]\n"
          ],
          "name": "stdout"
        }
      ]
    },
    {
      "cell_type": "code",
      "metadata": {
        "id": "Etd1hjVMBPgU",
        "colab_type": "code",
        "colab": {
          "base_uri": "https://localhost:8080/",
          "height": 246
        },
        "outputId": "0bba78f6-d5d7-4cf1-af6f-5a4e05025440"
      },
      "source": [
        "print (X_test)"
      ],
      "execution_count": 10,
      "outputs": [
        {
          "output_type": "stream",
          "text": [
            "[[-0.33158946 -0.11802914 -0.23690854 ... -0.61813245  0.27043057\n",
            "   0.11821043]\n",
            " [ 0.35669527  0.7594023  -0.31019236 ... -0.34571518 -0.07052038\n",
            "  -0.29162984]\n",
            " [-0.07910766  1.67253786 -0.0836873  ... -0.35618235  0.22640686\n",
            "  -0.09318065]\n",
            " ...\n",
            " [ 0.53095604  0.44565798 -0.45949233 ... -0.55921561 -0.05166027\n",
            "  -0.17070018]\n",
            " [-0.34095183  0.32482259 -0.03185071 ... -0.6393187   0.18779085\n",
            "   0.10844865]\n",
            " [ 0.22471615  0.12270643 -0.38779607 ...  2.87437909 -1.87791866\n",
            "  -1.00408554]]\n"
          ],
          "name": "stdout"
        }
      ]
    },
    {
      "cell_type": "markdown",
      "metadata": {
        "id": "2mX5MgfXAWmU",
        "colab_type": "text"
      },
      "source": [
        "## 2. RANDOM FOREST MODEL"
      ]
    },
    {
      "cell_type": "markdown",
      "metadata": {
        "id": "F7GRT4M7AWpB",
        "colab_type": "text"
      },
      "source": [
        "2.1 TRAINING RANDOM FOREST MODEL ON TRAINING SET"
      ]
    },
    {
      "cell_type": "code",
      "metadata": {
        "id": "5CTBPaKWCDPZ",
        "colab_type": "code",
        "colab": {
          "base_uri": "https://localhost:8080/",
          "height": 158
        },
        "outputId": "804997f9-b171-4b09-a63b-94d6d3cbda99"
      },
      "source": [
        "from sklearn.ensemble import RandomForestClassifier\n",
        "classifier = RandomForestClassifier (n_estimators = 10, criterion = 'entropy', random_state = 0)\n",
        "classifier.fit (X_train, Y_train)"
      ],
      "execution_count": 11,
      "outputs": [
        {
          "output_type": "execute_result",
          "data": {
            "text/plain": [
              "RandomForestClassifier(bootstrap=True, ccp_alpha=0.0, class_weight=None,\n",
              "                       criterion='entropy', max_depth=None, max_features='auto',\n",
              "                       max_leaf_nodes=None, max_samples=None,\n",
              "                       min_impurity_decrease=0.0, min_impurity_split=None,\n",
              "                       min_samples_leaf=1, min_samples_split=2,\n",
              "                       min_weight_fraction_leaf=0.0, n_estimators=10,\n",
              "                       n_jobs=None, oob_score=False, random_state=0, verbose=0,\n",
              "                       warm_start=False)"
            ]
          },
          "metadata": {
            "tags": []
          },
          "execution_count": 11
        }
      ]
    },
    {
      "cell_type": "markdown",
      "metadata": {
        "id": "vZII-ADAAWrm",
        "colab_type": "text"
      },
      "source": [
        "2.2 PREDICTING NEW RESULT"
      ]
    },
    {
      "cell_type": "code",
      "metadata": {
        "id": "koijHbJnCVt6",
        "colab_type": "code",
        "colab": {
          "base_uri": "https://localhost:8080/",
          "height": 35
        },
        "outputId": "304393d2-f2cc-48c0-b0ed-22b4c6becc68"
      },
      "source": [
        "print (classifier.predict (sc_X.transform ([[140.5625,55.68378214,-0.234571412,-0.699648398,3.199832776,19.11042633,7.975531794,74.24222492,]])))"
      ],
      "execution_count": 12,
      "outputs": [
        {
          "output_type": "stream",
          "text": [
            "[0]\n"
          ],
          "name": "stdout"
        }
      ]
    },
    {
      "cell_type": "markdown",
      "metadata": {
        "id": "spf_cXOjAWuR",
        "colab_type": "text"
      },
      "source": [
        "2.3 PREDICTING TEST SET RESULTS"
      ]
    },
    {
      "cell_type": "code",
      "metadata": {
        "id": "qxEFvvRFChjO",
        "colab_type": "code",
        "colab": {
          "base_uri": "https://localhost:8080/",
          "height": 140
        },
        "outputId": "a410ea54-1362-4198-b592-5d2933f511e5"
      },
      "source": [
        "Y_pred = classifier.predict (X_test)\n",
        "print (np.concatenate ((Y_pred.reshape (len (Y_pred),1), Y_test.reshape (len (Y_test),1)),1))"
      ],
      "execution_count": 13,
      "outputs": [
        {
          "output_type": "stream",
          "text": [
            "[[0 0]\n",
            " [0 0]\n",
            " [0 0]\n",
            " ...\n",
            " [0 0]\n",
            " [0 0]\n",
            " [0 0]]\n"
          ],
          "name": "stdout"
        }
      ]
    },
    {
      "cell_type": "markdown",
      "metadata": {
        "id": "FcooXoMaAWw8",
        "colab_type": "text"
      },
      "source": [
        "2.4 MODEL ACCURACY"
      ]
    },
    {
      "cell_type": "code",
      "metadata": {
        "id": "rHtPZufpCxDU",
        "colab_type": "code",
        "colab": {
          "base_uri": "https://localhost:8080/",
          "height": 70
        },
        "outputId": "5ed59ef4-3df6-4c56-e6dc-30ea5a3e81e2"
      },
      "source": [
        "from sklearn.metrics import confusion_matrix, accuracy_score\n",
        "cm = confusion_matrix (Y_test, Y_pred)\n",
        "print (cm)\n",
        "acc = accuracy_score (Y_test, Y_pred)\n",
        "print ('MODEL ACCURACY is - ' + str (acc*100) + '%')"
      ],
      "execution_count": 14,
      "outputs": [
        {
          "output_type": "stream",
          "text": [
            "[[4092   23]\n",
            " [  56  304]]\n",
            "MODEL ACCURACY is - 98.23463687150839%\n"
          ],
          "name": "stdout"
        }
      ]
    },
    {
      "cell_type": "markdown",
      "metadata": {
        "id": "SqYM9XhaAWzG",
        "colab_type": "text"
      },
      "source": [
        "## 3. VISUALISING TEST SET RESULTS"
      ]
    },
    {
      "cell_type": "code",
      "metadata": {
        "id": "X_oJoKbaDKRK",
        "colab_type": "code",
        "colab": {}
      },
      "source": [
        "X_test = sc_X.inverse_transform (X_test)"
      ],
      "execution_count": 15,
      "outputs": []
    },
    {
      "cell_type": "code",
      "metadata": {
        "id": "RwtsbqcjDKUM",
        "colab_type": "code",
        "colab": {
          "base_uri": "https://localhost:8080/",
          "height": 1000
        },
        "outputId": "df3ef88e-0608-41fb-93e5-173ad8468819"
      },
      "source": [
        "for i in range (8):\n",
        "  plt.figure ()\n",
        "  plt.scatter (X_test [ : ,i], Y_pred, color = 'blue', label = 'PREDICTED')\n",
        "  plt.scatter (X_test [ : ,i], Y_test, color = 'red', label = 'TRUE')\n",
        "  plt.title ('RANDOM FOREST MODEL')\n",
        "  plt.xlabel ('FEATURE ' + str (i+1))\n",
        "  plt.ylabel ('TARGET')\n",
        "  plt.legend ()\n",
        "  plt.show ()"
      ],
      "execution_count": 16,
      "outputs": [
        {
          "output_type": "display_data",
          "data": {
            "image/png": "[encoded data removed]",
            "text/plain": [
              "<Figure size 432x288 with 1 Axes>"
            ]
          },
          "metadata": {
            "tags": [],
            "needs_background": "light"
          }
        },
        {
          "output_type": "display_data",
          "data": {
            "image/png": "[encoded data removed]",
            "text/plain": [
              "<Figure size 432x288 with 1 Axes>"
            ]
          },
          "metadata": {
            "tags": [],
            "needs_background": "light"
          }
        },
        {
          "output_type": "display_data",
          "data": {
            "image/png": "[encoded data removed]",
            "text/plain": [
              "<Figure size 432x288 with 1 Axes>"
            ]
          },
          "metadata": {
            "tags": [],
            "needs_background": "light"
          }
        },
        {
          "output_type": "display_data",
          "data": {
            "image/png": "[encoded data removed]",
            "text/plain": [
              "<Figure size 432x288 with 1 Axes>"
            ]
          },
          "metadata": {
            "tags": [],
            "needs_background": "light"
          }
        },
        {
          "output_type": "display_data",
          "data": {
            "image/png": "[encoded data removed]",
            "text/plain": [
              "<Figure size 432x288 with 1 Axes>"
            ]
          },
          "metadata": {
            "tags": [],
            "needs_background": "light"
          }
        },
        {
          "output_type": "display_data",
          "data": {
            "image/png": "[encoded data removed]",
            "text/plain": [
              "<Figure size 432x288 with 1 Axes>"
            ]
          },
          "metadata": {
            "tags": [],
            "needs_background": "light"
          }
        },
        {
          "output_type": "display_data",
          "data": {
            "image/png": "[encoded data removed]",
            "text/plain": [
              "<Figure size 432x288 with 1 Axes>"
            ]
          },
          "metadata": {
            "tags": [],
            "needs_background": "light"
          }
        },
        {
          "output_type": "display_data",
          "data": {
            "image/png": "[encoded data removed]",
            "text/plain": [
              "<Figure size 432x288 with 1 Axes>"
            ]
          },
          "metadata": {
            "tags": [],
            "needs_background": "light"
          }
        }
      ]
    }
  ]
}