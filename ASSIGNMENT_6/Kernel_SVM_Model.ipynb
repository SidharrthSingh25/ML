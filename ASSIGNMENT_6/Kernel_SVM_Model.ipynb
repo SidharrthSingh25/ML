{
  "nbformat": 4,
  "nbformat_minor": 0,
  "metadata": {
    "colab": {
      "name": "Kernel_SVM_Model.ipynb",
      "provenance": [],
      "toc_visible": true,
      "authorship_tag": "ABX9TyMWQcSF8ekmzfzz8HpZG7gU",
      "include_colab_link": true
    },
    "kernelspec": {
      "name": "python3",
      "display_name": "Python 3"
    }
  },
  "cells": [
    {
      "cell_type": "markdown",
      "metadata": {
        "id": "view-in-github",
        "colab_type": "text"
      },
      "source": [
        "<a href=\"https://colab.research.google.com/github/SidharrthSingh25/ML/blob/master/ASSIGNMENT_6/Kernel_SVM_Model.ipynb\" target=\"_parent\"><img src=\"https://colab.research.google.com/assets/colab-badge.svg\" alt=\"Open In Colab\"/></a>"
      ]
    },
    {
      "cell_type": "markdown",
      "metadata": {
        "id": "5P_D85yLomsF",
        "colab_type": "text"
      },
      "source": [
        "## 1. DATA PREPROCESSING"
      ]
    },
    {
      "cell_type": "markdown",
      "metadata": {
        "id": "5WOhoEF4om0I",
        "colab_type": "text"
      },
      "source": [
        "1.1 IMPORTING LIBRARIES"
      ]
    },
    {
      "cell_type": "code",
      "metadata": {
        "id": "eoup3KdVoxlh",
        "colab_type": "code",
        "colab": {}
      },
      "source": [
        "import numpy as np\n",
        "import matplotlib.pyplot as plt\n",
        "import pandas as pd"
      ],
      "execution_count": 2,
      "outputs": []
    },
    {
      "cell_type": "markdown",
      "metadata": {
        "id": "ZEFUwcUxom3h",
        "colab_type": "text"
      },
      "source": [
        "1.2 IMPORTING DATASETS"
      ]
    },
    {
      "cell_type": "code",
      "metadata": {
        "id": "bFYZQb5fo-Qx",
        "colab_type": "code",
        "colab": {}
      },
      "source": [
        "dataset = pd.read_csv ('pulsar_stars.csv')\n",
        "X = dataset.iloc [ : , :-1].values\n",
        "Y = dataset.iloc [ : ,-1].values"
      ],
      "execution_count": 3,
      "outputs": []
    },
    {
      "cell_type": "markdown",
      "metadata": {
        "id": "4HpwbX89om6H",
        "colab_type": "text"
      },
      "source": [
        "1.3 SPLITTING INTO TRAINING AND TEST SET"
      ]
    },
    {
      "cell_type": "code",
      "metadata": {
        "id": "AinxtmQtpNYY",
        "colab_type": "code",
        "colab": {}
      },
      "source": [
        "from sklearn.model_selection import train_test_split\n",
        "X_train, X_test, Y_train, Y_test = train_test_split (X, Y, test_size = 0.25, random_state = 0)"
      ],
      "execution_count": 4,
      "outputs": []
    },
    {
      "cell_type": "code",
      "metadata": {
        "id": "Yhme2eVX5Ipv",
        "colab_type": "code",
        "colab": {
          "base_uri": "https://localhost:8080/",
          "height": 246
        },
        "outputId": "2ab98270-9921-43aa-8422-1f53cf706565"
      },
      "source": [
        "print (X_train)"
      ],
      "execution_count": 5,
      "outputs": [
        {
          "output_type": "stream",
          "text": [
            "[[ 1.33898438e+02  4.69297746e+01  3.87951750e-02 ...  1.95615370e+01\n",
            "   8.57437793e+00  8.07954514e+01]\n",
            " [ 2.70390625e+01  3.37547224e+01  4.77912374e+00 ...  7.88154399e+01\n",
            "  -3.48492115e-01 -8.93790697e-01]\n",
            " [ 1.07718750e+02  5.20618529e+01  2.78869299e-01 ...  4.05191430e+01\n",
            "   3.34724977e+00  1.04413225e+01]\n",
            " ...\n",
            " [ 1.33164062e+02  5.54754700e+01 -9.44232330e-02 ...  1.26535027e+01\n",
            "   1.21759792e+01  1.81458434e+02]\n",
            " [ 9.81718750e+01  4.88055948e+01  3.11807442e-01 ...  1.62043130e+01\n",
            "   1.02032095e+01  1.22776632e+02]\n",
            " [ 1.06046875e+02  4.20750556e+01  4.21143692e-01 ...  1.99249204e+01\n",
            "   7.31348277e+00  5.87921276e+01]]\n"
          ],
          "name": "stdout"
        }
      ]
    },
    {
      "cell_type": "code",
      "metadata": {
        "id": "nGyzJqJt5Iti",
        "colab_type": "code",
        "colab": {
          "base_uri": "https://localhost:8080/",
          "height": 35
        },
        "outputId": "f449b854-6d05-4ec0-af51-09a0e302d936"
      },
      "source": [
        "print (Y_train)"
      ],
      "execution_count": 6,
      "outputs": [
        {
          "output_type": "stream",
          "text": [
            "[0 1 0 ... 0 0 0]\n"
          ],
          "name": "stdout"
        }
      ]
    },
    {
      "cell_type": "code",
      "metadata": {
        "id": "6KUN-jqY5IxW",
        "colab_type": "code",
        "colab": {
          "base_uri": "https://localhost:8080/",
          "height": 246
        },
        "outputId": "8ce017d1-444b-424f-c7f4-80ed5daac3e5"
      },
      "source": [
        "print (X_test)"
      ],
      "execution_count": 7,
      "outputs": [
        {
          "output_type": "stream",
          "text": [
            "[[ 1.02289062e+02  4.57590757e+01  2.31697754e-01 ...  1.43430197e+01\n",
            "   9.50036830e+00  1.17057724e+02]\n",
            " [ 1.20093750e+02  5.17653114e+01  1.52884958e-01 ...  1.96742682e+01\n",
            "   7.96200404e+00  7.36250634e+01]\n",
            " [ 1.08820312e+02  5.80159506e+01  3.96478925e-01 ...  1.94694241e+01\n",
            "   9.30173415e+00  9.46556370e+01]\n",
            " ...\n",
            " [ 1.24601562e+02  4.96176537e+01 -7.67909800e-03 ...  1.54960315e+01\n",
            "   8.04710053e+00  8.64405361e+01]\n",
            " [ 1.02046875e+02  4.87905055e+01  4.52226380e-01 ...  1.39284014e+01\n",
            "   9.12749945e+00  1.16023222e+02]\n",
            " [ 1.16679688e+02  4.74069704e+01  6.94263630e-02 ...  8.26920169e+01\n",
            "  -1.92942742e-01 -1.87714766e+00]]\n"
          ],
          "name": "stdout"
        }
      ]
    },
    {
      "cell_type": "code",
      "metadata": {
        "id": "250AlqgL5I4r",
        "colab_type": "code",
        "colab": {
          "base_uri": "https://localhost:8080/",
          "height": 35
        },
        "outputId": "a3ce7527-7922-4614-ccf7-078888190f10"
      },
      "source": [
        "print (Y_test)"
      ],
      "execution_count": 8,
      "outputs": [
        {
          "output_type": "stream",
          "text": [
            "[0 0 0 ... 0 0 0]\n"
          ],
          "name": "stdout"
        }
      ]
    },
    {
      "cell_type": "markdown",
      "metadata": {
        "id": "e7XRceecom_Y",
        "colab_type": "text"
      },
      "source": [
        "1.4 FEATURE SCALING"
      ]
    },
    {
      "cell_type": "code",
      "metadata": {
        "id": "68qm0Sb-pgGs",
        "colab_type": "code",
        "colab": {}
      },
      "source": [
        "from sklearn.preprocessing import StandardScaler\n",
        "sc_X = StandardScaler ()\n",
        "X_train = sc_X.fit_transform (X_train)\n",
        "X_test = sc_X.transform (X_test)"
      ],
      "execution_count": 9,
      "outputs": []
    },
    {
      "cell_type": "code",
      "metadata": {
        "id": "ARfOoqYF5QlR",
        "colab_type": "code",
        "colab": {
          "base_uri": "https://localhost:8080/",
          "height": 246
        },
        "outputId": "2c56d001-fa38-4a4c-f301-8595707b36f6"
      },
      "source": [
        "print (X_train)"
      ],
      "execution_count": 10,
      "outputs": [
        {
          "output_type": "stream",
          "text": [
            "[[ 0.89035     0.05299446 -0.41627838 ... -0.35147554  0.06520135\n",
            "  -0.22396846]\n",
            " [-3.24056646 -1.87170607  3.9915008  ...  2.67629293 -1.9123934\n",
            "  -0.99480636]\n",
            " [-0.12169131  0.80272308 -0.19304623 ...  0.71942064 -1.09329823\n",
            "  -0.88784571]\n",
            " ...\n",
            " [ 0.8619609   1.30140731 -0.54015109 ... -0.70446375  0.86343194\n",
            "   0.7259099 ]\n",
            " [-0.49074965  0.32702693 -0.16241881 ... -0.52302369  0.42620276\n",
            "   0.17217532]\n",
            " [-0.18632182 -0.65621566 -0.06075285 ... -0.33290731 -0.21425354\n",
            "  -0.43159673]]\n"
          ],
          "name": "stdout"
        }
      ]
    },
    {
      "cell_type": "code",
      "metadata": {
        "id": "rH42LVpr5QuE",
        "colab_type": "code",
        "colab": {
          "base_uri": "https://localhost:8080/",
          "height": 246
        },
        "outputId": "3d3ebd75-e41c-4f4c-dd37-e0587e5e9f02"
      },
      "source": [
        "print (X_test)"
      ],
      "execution_count": 11,
      "outputs": [
        {
          "output_type": "stream",
          "text": [
            "[[-0.33158946 -0.11802914 -0.23690854 ... -0.61813245  0.27043057\n",
            "   0.11821043]\n",
            " [ 0.35669527  0.7594023  -0.31019236 ... -0.34571518 -0.07052038\n",
            "  -0.29162984]\n",
            " [-0.07910766  1.67253786 -0.0836873  ... -0.35618235  0.22640686\n",
            "  -0.09318065]\n",
            " ...\n",
            " [ 0.53095604  0.44565798 -0.45949233 ... -0.55921561 -0.05166027\n",
            "  -0.17070018]\n",
            " [-0.34095183  0.32482259 -0.03185071 ... -0.6393187   0.18779085\n",
            "   0.10844865]\n",
            " [ 0.22471615  0.12270643 -0.38779607 ...  2.87437909 -1.87791866\n",
            "  -1.00408554]]\n"
          ],
          "name": "stdout"
        }
      ]
    },
    {
      "cell_type": "markdown",
      "metadata": {
        "id": "zr-6kKdhonCC",
        "colab_type": "text"
      },
      "source": [
        "## 2. KERNEL SVM MODEL"
      ]
    },
    {
      "cell_type": "markdown",
      "metadata": {
        "id": "hAcH8IsJonHb",
        "colab_type": "text"
      },
      "source": [
        "2.1 TRAINING KERNEL SVM MODEL ON TRAINING SET"
      ]
    },
    {
      "cell_type": "code",
      "metadata": {
        "id": "pTPVZ4U8v5cl",
        "colab_type": "code",
        "colab": {
          "base_uri": "https://localhost:8080/",
          "height": 87
        },
        "outputId": "a8c8796b-d002-443d-e56c-0bfce0343c4c"
      },
      "source": [
        "from sklearn.svm import SVC\n",
        "classifier = SVC (kernel = 'rbf', random_state = 0)\n",
        "classifier.fit (X_train, Y_train)"
      ],
      "execution_count": 12,
      "outputs": [
        {
          "output_type": "execute_result",
          "data": {
            "text/plain": [
              "SVC(C=1.0, break_ties=False, cache_size=200, class_weight=None, coef0=0.0,\n",
              "    decision_function_shape='ovr', degree=3, gamma='scale', kernel='rbf',\n",
              "    max_iter=-1, probability=False, random_state=0, shrinking=True, tol=0.001,\n",
              "    verbose=False)"
            ]
          },
          "metadata": {
            "tags": []
          },
          "execution_count": 12
        }
      ]
    },
    {
      "cell_type": "markdown",
      "metadata": {
        "id": "stZLdJ7aonKT",
        "colab_type": "text"
      },
      "source": [
        "2.2 PREDICTING NEW RESULT "
      ]
    },
    {
      "cell_type": "code",
      "metadata": {
        "id": "6UKdjmOMwLtg",
        "colab_type": "code",
        "colab": {
          "base_uri": "https://localhost:8080/",
          "height": 35
        },
        "outputId": "653ae868-ef46-4a85-ece9-ed2186a579b9"
      },
      "source": [
        "print (classifier.predict (sc_X.transform ([[140.5625,55.68378214,-0.234571412,-0.699648398,3.199832776,19.11042633,7.975531794,74.24222492,]])))"
      ],
      "execution_count": 13,
      "outputs": [
        {
          "output_type": "stream",
          "text": [
            "[0]\n"
          ],
          "name": "stdout"
        }
      ]
    },
    {
      "cell_type": "markdown",
      "metadata": {
        "id": "l2oTWrgGonNH",
        "colab_type": "text"
      },
      "source": [
        "2.3 PREDICTING TEST SET RESULTS"
      ]
    },
    {
      "cell_type": "code",
      "metadata": {
        "id": "ExOodqAvwUyr",
        "colab_type": "code",
        "colab": {
          "base_uri": "https://localhost:8080/",
          "height": 140
        },
        "outputId": "ccefcc1c-2307-4717-b706-6901d10d8bdc"
      },
      "source": [
        "Y_pred = classifier.predict (X_test)\n",
        "print (np.concatenate ((Y_pred.reshape (len (Y_pred),1), Y_test.reshape (len (Y_test),1)),1))"
      ],
      "execution_count": 14,
      "outputs": [
        {
          "output_type": "stream",
          "text": [
            "[[0 0]\n",
            " [0 0]\n",
            " [0 0]\n",
            " ...\n",
            " [0 0]\n",
            " [0 0]\n",
            " [0 0]]\n"
          ],
          "name": "stdout"
        }
      ]
    },
    {
      "cell_type": "markdown",
      "metadata": {
        "id": "oDnW-ZYDonQZ",
        "colab_type": "text"
      },
      "source": [
        "2.4 MODEL ACCURACY"
      ]
    },
    {
      "cell_type": "code",
      "metadata": {
        "id": "4AMnYA-qwlF3",
        "colab_type": "code",
        "colab": {
          "base_uri": "https://localhost:8080/",
          "height": 70
        },
        "outputId": "8eefe5ad-3b8c-469e-c44d-ec35ad95c7a6"
      },
      "source": [
        "from sklearn.metrics import confusion_matrix, accuracy_score\n",
        "cm = confusion_matrix (Y_test, Y_pred)\n",
        "print (cm)\n",
        "acc = accuracy_score (Y_test, Y_pred)\n",
        "print ('MODEL ACCURACY is - ' + str (acc*100) + '%')"
      ],
      "execution_count": 15,
      "outputs": [
        {
          "output_type": "stream",
          "text": [
            "[[4093   22]\n",
            " [  63  297]]\n",
            "MODEL ACCURACY is - 98.10055865921787%\n"
          ],
          "name": "stdout"
        }
      ]
    },
    {
      "cell_type": "markdown",
      "metadata": {
        "id": "ZwVeBuVuonTV",
        "colab_type": "text"
      },
      "source": [
        "## 3. VISUALISING TEST SET RESULTS"
      ]
    },
    {
      "cell_type": "code",
      "metadata": {
        "id": "BLko2pVa2mj8",
        "colab_type": "code",
        "colab": {}
      },
      "source": [
        "X_test = sc_X.inverse_transform (X_test)"
      ],
      "execution_count": 16,
      "outputs": []
    },
    {
      "cell_type": "code",
      "metadata": {
        "id": "CP5Ks0MTy9Q9",
        "colab_type": "code",
        "colab": {
          "base_uri": "https://localhost:8080/",
          "height": 1000
        },
        "outputId": "6bf26156-e5e0-451e-aa85-9d2350b82314"
      },
      "source": [
        "for i in range (8):\n",
        "  plt.figure ()\n",
        "  plt.scatter (X_test [ : ,i], Y_pred, color = 'blue', label = 'PREDICTED')\n",
        "  plt.scatter (X_test [ : ,i], Y_test, color = 'red', label = 'TRUE')\n",
        "  plt.title ('KERNEL SVM MODEL')\n",
        "  plt.xlabel ('FEATURE ' + str (i+1))\n",
        "  plt.ylabel ('TARGET')\n",
        "  plt.legend ()\n",
        "  plt.show ()"
      ],
      "execution_count": 17,
      "outputs": [
        {
          "output_type": "display_data",
          "data": {
            "image/png": "[encoded data removed]",
            "text/plain": [
              "<Figure size 432x288 with 1 Axes>"
            ]
          },
          "metadata": {
            "tags": [],
            "needs_background": "light"
          }
        },
        {
          "output_type": "display_data",
          "data": {
            "image/png": "[encoded data removed]",
            "text/plain": [
              "<Figure size 432x288 with 1 Axes>"
            ]
          },
          "metadata": {
            "tags": [],
            "needs_background": "light"
          }
        },
        {
          "output_type": "display_data",
          "data": {
            "image/png": "[encoded data removed]",
            "text/plain": [
              "<Figure size 432x288 with 1 Axes>"
            ]
          },
          "metadata": {
            "tags": [],
            "needs_background": "light"
          }
        },
        {
          "output_type": "display_data",
          "data": {
            "image/png": "[encoded data removed]",
            "text/plain": [
              "<Figure size 432x288 with 1 Axes>"
            ]
          },
          "metadata": {
            "tags": [],
            "needs_background": "light"
          }
        },
        {
          "output_type": "display_data",
          "data": {
            "image/png": "[encoded data removed]",
            "text/plain": [
              "<Figure size 432x288 with 1 Axes>"
            ]
          },
          "metadata": {
            "tags": [],
            "needs_background": "light"
          }
        },
        {
          "output_type": "display_data",
          "data": {
            "image/png": "[encoded data removed]",
            "text/plain": [
              "<Figure size 432x288 with 1 Axes>"
            ]
          },
          "metadata": {
            "tags": [],
            "needs_background": "light"
          }
        },
        {
          "output_type": "display_data",
          "data": {
            "image/png": "[encoded data removed]",
            "text/plain": [
              "<Figure size 432x288 with 1 Axes>"
            ]
          },
          "metadata": {
            "tags": [],
            "needs_background": "light"
          }
        },
        {
          "output_type": "display_data",
          "data": {
            "image/png": "[encoded data removed]",
            "text/plain": [
              "<Figure size 432x288 with 1 Axes>"
            ]
          },
          "metadata": {
            "tags": [],
            "needs_background": "light"
          }
        }
      ]
    }
  ]
}